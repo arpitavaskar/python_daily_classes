{
  "nbformat": 4,
  "nbformat_minor": 0,
  "metadata": {
    "colab": {
      "provenance": []
    },
    "kernelspec": {
      "name": "python3",
      "display_name": "Python 3"
    },
    "language_info": {
      "name": "python"
    }
  },
  "cells": [
    {
      "cell_type": "code",
      "execution_count": 4,
      "metadata": {
        "colab": {
          "base_uri": "https://localhost:8080/"
        },
        "id": "apJjH6s-kafA",
        "outputId": "220ed516-7731-46e5-8d49-44342eadc1af"
      },
      "outputs": [
        {
          "output_type": "stream",
          "name": "stdout",
          "text": [
            "['laptop', 39000, 'window', 'lenovo', 'bengluru', 39000, 'lenovo', 'chikodi']\n",
            "2\n"
          ]
        }
      ],
      "source": [
        "example=[\"laptop\",39000,\"window\",\"lenovo\",\"bengluru\",39000,\"lenovo\",\"chikodi\"]\n",
        "print(example)\n",
        "print(example.count(\"lenovo\"))"
      ]
    },
    {
      "cell_type": "code",
      "source": [
        "#Compile time program\n",
        "A= 10\n",
        "B= 20\n",
        "print(A+B)\n",
        "\n",
        "#Run time program\n",
        "x=int(input(\"enter x value:\"))\n",
        "y= int(input(\"enter y value:\"))\n",
        "print(x+y)\n",
        "\n",
        "# Addition of 10 and 20 value is = 30\n",
        "p= int(input(\"enter p value:\"))\n",
        "q= int(input(\"enter q value:\"))\n",
        "print(\"addition of\",p,\"and\",q,\"value is=\",p+q)\n",
        "\n",
        "first = float(input(\"enter first value:\"))\n",
        "second = float(input(\"enter second value:\"))\n",
        "print(first*second)\n",
        "\n",
        "first_name=input(\"enter first name:\")\n",
        "last_name=input(\"enter last name:\")\n",
        "print(first_name + \" \" +last_name)"
      ],
      "metadata": {
        "colab": {
          "base_uri": "https://localhost:8080/"
        },
        "id": "Tu8xH7B_qDoK",
        "outputId": "3c2e099b-4420-4941-9db0-aaaa28c06667"
      },
      "execution_count": 24,
      "outputs": [
        {
          "output_type": "stream",
          "name": "stdout",
          "text": [
            "30\n",
            "enter x value:10\n",
            "enter y value:20\n",
            "30\n",
            "enter p value:10\n",
            "enter q value:0\n",
            "addition of 10 and 0 value is= 10\n",
            "enter first value:10\n",
            "enter second value:5\n",
            "50.0\n",
            "enter first name:arpita\n",
            "enter last name:  vaskar\n",
            "arpita   vaskar\n"
          ]
        }
      ]
    },
    {
      "cell_type": "code",
      "source": [
        "i=input()\n",
        "j=input()\n",
        "print(i+j)"
      ],
      "metadata": {
        "colab": {
          "base_uri": "https://localhost:8080/"
        },
        "id": "vdilyMkDwJgv",
        "outputId": "5c4abf51-a297-4a89-db0f-34fadeb3280a"
      },
      "execution_count": 27,
      "outputs": [
        {
          "output_type": "stream",
          "name": "stdout",
          "text": [
            "bkc\n",
            "college\n",
            "bkccollege\n"
          ]
        }
      ]
    },
    {
      "cell_type": "code",
      "source": [
        "x=100\n",
        "y=50\n",
        "print(f'addition  of {x} and {y} value is ={x+y}')"
      ],
      "metadata": {
        "colab": {
          "base_uri": "https://localhost:8080/"
        },
        "id": "9-BP-ltd3t6W",
        "outputId": "7213c062-b17b-48b8-bca2-b054591a377d"
      },
      "execution_count": 30,
      "outputs": [
        {
          "output_type": "stream",
          "name": "stdout",
          "text": [
            "addition  of 100 and 50 value is =150\n"
          ]
        }
      ]
    },
    {
      "cell_type": "code",
      "source": [
        "#Hi, Good Morning My name is Arpita, i have completed PU in the year of 2024, currently i'm studing in KLE's BK BCA College Chikodi 591201\n",
        "name= \"Arpita\"\n",
        "course= \"PU\"\n",
        "year = 2024\n",
        "college= \"KLE's BK BCA College Chikodi\"\n",
        "pincode= 591201\n",
        "print(f'Hi, good morning my name is {name}, i have completed {course} in the year of {year}, currently i am studing in {college}{pincode}')"
      ],
      "metadata": {
        "colab": {
          "base_uri": "https://localhost:8080/"
        },
        "id": "2DD4V7O145wW",
        "outputId": "627068eb-d9b7-48fc-e2ed-be5fba8f5158"
      },
      "execution_count": 31,
      "outputs": [
        {
          "output_type": "stream",
          "name": "stdout",
          "text": [
            "Hi, good morning my name is Arpita, i have completed PU in the year of 2024, currently i am studing in KLE's BK BCA College Chikodi591201\n"
          ]
        }
      ]
    },
    {
      "cell_type": "code",
      "source": [
        "num1= 30\n",
        " num2= 15\n",
        "\n",
        "print(\"addition of two number is:\",num1+num2)\n",
        "print()\n",
        "\n",
        "print(\"subtraction of two number is:\",num1-num2)\n",
        "print()\n",
        "print(\"multiplication of two number is :\",num1*num2)\n",
        "print()\n",
        "print(\"division of two number is:\",num1/num2)\n",
        "print()\n",
        "print(\"floor division of two number is:\",num1//num2)\n",
        "print()\n",
        "print(\"modules of two number is:\",num1%num2)\n",
        "print()\n",
        "print(\"exponent of two number is:\",num1**num2                                                       ])\n",
        "print()\n"
      ],
      "metadata": {
        "colab": {
          "base_uri": "https://localhost:8080/"
        },
        "id": "H2YjK7Ly723u",
        "outputId": "f1cb8552-7c1c-4987-f2ff-aac5f8299c64"
      },
      "execution_count": 46,
      "outputs": [
        {
          "output_type": "stream",
          "name": "stdout",
          "text": [
            "addition of two number is: 45\n",
            "\n",
            "subtraction of two number is: 15\n",
            "\n",
            "multiplication of two number is : 450\n",
            "\n",
            "division of two number is: 2.0\n",
            "\n",
            "floor division of two number is: 2\n",
            "\n",
            "modules of two number is: 0\n",
            "\n",
            "exponent of two number is: 14348907000000000000000\n",
            "\n"
          ]
        }
      ]
    },
    {
      "cell_type": "code",
      "source": [
        "x= 10\n",
        "y= 13\n",
        "print(\"equal :\",x==y)\n",
        "print(\"not equal :\",x!=y)\n",
        "print(\"greater then:\",x>y)\n",
        "print(\"less then:\",x<y)\n",
        "print(\"greater then equal:\",x>=y)\n",
        "print(\"less then equal:\",x<=y)\n",
        "print()\n",
        "print(\"equal:\",y==x)\n",
        "print(\"not equal :\",y!=x)\n",
        "print(\"greater then:\",y>x)\n",
        "print(\"less then:\",y<x)\n",
        "print(\"greater then equal:\",y>=x)\n",
        "print(\"less then equal:\",y<=x)\n"
      ],
      "metadata": {
        "colab": {
          "base_uri": "https://localhost:8080/"
        },
        "id": "qrh5Gv-SGtU8",
        "outputId": "ccef0fdb-f080-4373-a2b6-4055a25ffe26"
      },
      "execution_count": 49,
      "outputs": [
        {
          "output_type": "stream",
          "name": "stdout",
          "text": [
            "equal : False\n",
            "not equal : True\n",
            "greater then: False\n",
            "less then: True\n",
            "greater then equal: False\n",
            "less then equal: True\n",
            "\n",
            "equal: False\n",
            "not equal : True\n",
            "greater then: True\n",
            "less then: False\n",
            "greater then equal: True\n",
            "less then equal: False\n"
          ]
        }
      ]
    },
    {
      "cell_type": "code",
      "source": [
        "a=20\n",
        "b=35\n",
        "c=13\n",
        "d=10\n",
        "\n",
        "print(a==b and c<d)\n",
        "print(13 != c and d< c)\n",
        "print(b > a and d< c)\n",
        "print(20 != a and c== b )\n",
        "print(a < b or d ==c)\n",
        "print((not(a<b))and 100< 200)\n",
        "print(not (d==10))\n",
        "print(35 != d or (not(20 == a)))\n",
        "print(not(c <= b and (not(a <=c))))\n"
      ],
      "metadata": {
        "colab": {
          "base_uri": "https://localhost:8080/"
        },
        "id": "IAgQEwTmNd-a",
        "outputId": "130f4afb-fc40-4978-9462-43b18d774078"
      },
      "execution_count": 57,
      "outputs": [
        {
          "output_type": "stream",
          "name": "stdout",
          "text": [
            "False\n",
            "False\n",
            "True\n",
            "False\n",
            "True\n",
            "False\n",
            "False\n",
            "True\n",
            "False\n"
          ]
        }
      ]
    },
    {
      "cell_type": "code",
      "source": [
        "x=10\n",
        "print(x)\n",
        "\n",
        "x -=2            #x=x-2, x=10-2\n",
        "print(x)\n",
        "\n",
        "x *=5            #X=X*5, X=8*5\n",
        "print(x)\n",
        "\n",
        "x//=3            #x//3, x=40//3\n",
        "print(x)\n",
        "\n",
        "x**=2            #x=x**2, x=13**2\n",
        "print(x)\n",
        "\n",
        "x%=4             #x=x%4, x=169%4\n",
        "print(x)\n",
        "\n",
        "x +=9\n",
        "print(x)\n",
        "\n",
        "x/=3             #x=x/3, x=10/3\n",
        "print(x)"
      ],
      "metadata": {
        "colab": {
          "base_uri": "https://localhost:8080/"
        },
        "id": "zT4fOhETRrWh",
        "outputId": "678d9c46-8d49-4846-bd06-1755018be0d9"
      },
      "execution_count": 71,
      "outputs": [
        {
          "output_type": "stream",
          "name": "stdout",
          "text": [
            "10\n",
            "8\n",
            "40\n",
            "13\n",
            "169\n",
            "1\n",
            "10\n",
            "3.3333333333333335\n"
          ]
        }
      ]
    },
    {
      "cell_type": "code",
      "source": [
        "num = 9\n",
        "if num<10:\n",
        "  print(\"10 is greter than 9\")"
      ],
      "metadata": {
        "colab": {
          "base_uri": "https://localhost:8080/"
        },
        "id": "6ALeQpnwUx5N",
        "outputId": "45f5aa9a-02ed-4f79-b92b-6ccd203da579"
      },
      "execution_count": 74,
      "outputs": [
        {
          "output_type": "stream",
          "name": "stdout",
          "text": [
            "10 is greter than 9\n"
          ]
        }
      ]
    },
    {
      "cell_type": "code",
      "source": [
        "user_id = \"20BCA103\"\n",
        "password= 27894\n",
        "if user_id== \"20BCA103\" and password== 27894:\n",
        "  print(\"login successfully\")"
      ],
      "metadata": {
        "colab": {
          "base_uri": "https://localhost:8080/"
        },
        "id": "jIoau_Kguzay",
        "outputId": "27f4aef4-87ab-4163-8121-d2ead56cf9dc"
      },
      "execution_count": 75,
      "outputs": [
        {
          "output_type": "stream",
          "name": "stdout",
          "text": [
            "login successfully\n"
          ]
        }
      ]
    },
    {
      "cell_type": "code",
      "source": [
        "ex = 46\n",
        "if ex==45:\n",
        "  print(\"are you understand\")"
      ],
      "metadata": {
        "id": "rlJR_0Y-v5mx"
      },
      "execution_count": 76,
      "outputs": []
    },
    {
      "cell_type": "code",
      "source": [
        "name =\"arpita\"\n",
        "if name<= \"BCA\":\n",
        "  print(\"my name is arpita\")"
      ],
      "metadata": {
        "id": "edLR-x1NwNaM"
      },
      "execution_count": 79,
      "outputs": []
    },
    {
      "cell_type": "code",
      "source": [
        " num = int(input(\"enter a number value:\"))\n",
        " if num >0:\n",
        "  print(\"positive number\")\n",
        " else:\n",
        "  print(\"negative number \")"
      ],
      "metadata": {
        "colab": {
          "base_uri": "https://localhost:8080/"
        },
        "id": "9gxeI4Pywvx4",
        "outputId": "e0cf9809-6c98-40f9-c75d-3fa4e658566c"
      },
      "execution_count": 81,
      "outputs": [
        {
          "output_type": "stream",
          "name": "stdout",
          "text": [
            "enter a number value:99\n",
            "positive number\n"
          ]
        }
      ]
    },
    {
      "cell_type": "code",
      "source": [
        "num = int(input(\"enter a number value:\"))\n",
        "if num % 2==00:\n",
        "  print(\"even number\")\n",
        "else:\n",
        "  print(\"odd number\")"
      ],
      "metadata": {
        "colab": {
          "base_uri": "https://localhost:8080/"
        },
        "id": "1SQrKGNk0imt",
        "outputId": "f0be1b42-02f2-4156-aba4-3d237d54dc3c"
      },
      "execution_count": 85,
      "outputs": [
        {
          "output_type": "stream",
          "name": "stdout",
          "text": [
            "enter a number value:100007\n",
            "odd number\n"
          ]
        }
      ]
    },
    {
      "cell_type": "code",
      "source": [
        "num =int(input(\"enter a leap year value\"))\n",
        "if year % 4==0:\n",
        "  print(\"leap year\")\n",
        "else:\n",
        "  print(\"not leap year\")"
      ],
      "metadata": {
        "colab": {
          "base_uri": "https://localhost:8080/"
        },
        "id": "PoLHcbIb2_xc",
        "outputId": "71c6f0c6-c5ea-4387-aa5a-488d69cbf738"
      },
      "execution_count": 89,
      "outputs": [
        {
          "output_type": "stream",
          "name": "stdout",
          "text": [
            "enter a leap year value2025\n",
            "leap year\n"
          ]
        }
      ]
    },
    {
      "cell_type": "code",
      "source": [
        "age= int(input(\"enter age value\"))\n",
        "if year >= 18:\n",
        "  print(\"they are eligibl0e for voting\")\n",
        "else:\n",
        "  print(\"they have to wait\")"
      ],
      "metadata": {
        "colab": {
          "base_uri": "https://localhost:8080/"
        },
        "id": "lD8gCZRt4uPW",
        "outputId": "72085a60-4660-4ce9-bac8-21653dfa57b8"
      },
      "execution_count": 95,
      "outputs": [
        {
          "output_type": "stream",
          "name": "stdout",
          "text": [
            "enter age value21\n",
            "they are eligible for voting\n"
          ]
        }
      ]
    },
    {
      "cell_type": "code",
      "source": [
        "password = int(input(\"enter the password\"))\n",
        "if password ==  23452:\n",
        "  print(\"login successful\")\n",
        "else:\n",
        "  print(\"login unsuccesful\")"
      ],
      "metadata": {
        "colab": {
          "base_uri": "https://localhost:8080/"
        },
        "id": "D6gPe2gB4s18",
        "outputId": "3cb83f3b-df76-4b86-b396-d4b464ad8aec"
      },
      "execution_count": 96,
      "outputs": [
        {
          "output_type": "stream",
          "name": "stdout",
          "text": [
            "enter the password 133354\n",
            "login unsuccesful\n"
          ]
        }
      ]
    },
    {
      "cell_type": "code",
      "source": [
        "user_id = input(\"enter user_id value:\")\n",
        "password =int(input(\"enter password value:\"))\n",
        "if user_id == \"college\" and password== 1234 :\n",
        "  print(\"login successfully\")\n",
        "else:\n",
        "  print(\"invalid details\")"
      ],
      "metadata": {
        "colab": {
          "base_uri": "https://localhost:8080/"
        },
        "id": "8biVkEBw7M7x",
        "outputId": "6d5039d7-54ae-4368-861e-bc4d99b8f258"
      },
      "execution_count": 101,
      "outputs": [
        {
          "output_type": "stream",
          "name": "stdout",
          "text": [
            "enter user_id value:college\n",
            "enter password value:1234\n",
            "login successfully\n"
          ]
        }
      ]
    },
    {
      "cell_type": "code",
      "source": [
        "prize = input(\"enter prize medal:\")\n",
        "if prize== \"GOLD\":\n",
        "  print(\"first prize\")\n",
        "elif prize== \"SILVAR\":\n",
        "  print(\"second prize\")\n",
        "elif prize== \"BRONZE\":\n",
        "  print(\"third prize\")\n",
        "elif prize== \"CERTIFICATE\":\n",
        "  print(\"Samadanakar bahumana\")\n",
        "else:\n",
        "  print(\"bettet luck next chance\")\n",
        "\n",
        ""
      ],
      "metadata": {
        "colab": {
          "base_uri": "https://localhost:8080/"
        },
        "id": "veQotWuvCdVT",
        "outputId": "2329ed1f-0509-496d-80bb-1d1d68f61669"
      },
      "execution_count": 111,
      "outputs": [
        {
          "output_type": "stream",
          "name": "stdout",
          "text": [
            "enter prize medal:SILVAR\n",
            "second prize\n"
          ]
        }
      ]
    },
    {
      "cell_type": "code",
      "source": [
        "colour =input(\"enter the signal collor \")\n",
        "if colour== \"red\":\n",
        "  print(\"stop\")\n",
        "elif colour==\"yellow\":\n",
        "  print(\"ready to go\")\n",
        "elif colour==\"green\":\n",
        "  print(\"go\")\n",
        "else:\n",
        "  print(\"invalid colour\")"
      ],
      "metadata": {
        "colab": {
          "base_uri": "https://localhost:8080/"
        },
        "id": "dgiEdYBUE5_s",
        "outputId": "93760139-dd8d-4e28-f9ff-38e13a48a839"
      },
      "execution_count": 114,
      "outputs": [
        {
          "output_type": "stream",
          "name": "stdout",
          "text": [
            "enter the signal collor pink\n",
            "invalid colour\n"
          ]
        }
      ]
    }
  ]
}