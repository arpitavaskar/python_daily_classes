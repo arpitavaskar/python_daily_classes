{
  "nbformat": 4,
  "nbformat_minor": 0,
  "metadata": {
    "colab": {
      "provenance": []
    },
    "kernelspec": {
      "name": "python3",
      "display_name": "Python 3"
    },
    "language_info": {
      "name": "python"
    }
  },
  "cells": [
    {
      "cell_type": "code",
      "execution_count": 3,
      "metadata": {
        "colab": {
          "base_uri": "https://localhost:8080/"
        },
        "id": "SHVaeaPtYlyi",
        "outputId": "15ea0be5-59da-4f5b-b0da-1c7f328077ed"
      },
      "outputs": [
        {
          "output_type": "stream",
          "name": "stdout",
          "text": [
            "numpy array: [1 2 3 4 5]\n"
          ]
        }
      ],
      "source": [
        "import numpy as Arpita\n",
        "arr= Arpita.array([1,2,3,4,5])\n",
        "print(\"numpy array:\",arr)"
      ]
    },
    {
      "cell_type": "code",
      "source": [
        "import numpy as np\n",
        "zeros=np.zeros(5)\n",
        "ones =np.ones(5)\n",
        "print(\"zeros:\",zeros)\n",
        "print(\"ones:\",ones)"
      ],
      "metadata": {
        "colab": {
          "base_uri": "https://localhost:8080/"
        },
        "id": "he1_3Dc4hf2N",
        "outputId": "696a7532-e5ef-4b7a-b0e7-b628d5a9aa54"
      },
      "execution_count": 4,
      "outputs": [
        {
          "output_type": "stream",
          "name": "stdout",
          "text": [
            "zeros: [0. 0. 0. 0. 0.]\n",
            "ones: [1. 1. 1. 1. 1.]\n"
          ]
        }
      ]
    },
    {
      "cell_type": "code",
      "source": [
        "import numpy as np\n",
        "a= np.array([10,20,30])\n",
        "b= np.array([1,2,3])\n",
        "print(\"addition:\", a+b)\n",
        "print(\"multiplication:\",a*b)"
      ],
      "metadata": {
        "colab": {
          "base_uri": "https://localhost:8080/"
        },
        "id": "YRAnF_wPjeu3",
        "outputId": "c8bc232c-8477-4156-9664-9f8e3f2ceb30"
      },
      "execution_count": 6,
      "outputs": [
        {
          "output_type": "stream",
          "name": "stdout",
          "text": [
            "addition: [11 22 33]\n",
            "multiplication: [10 40 90]\n"
          ]
        }
      ]
    },
    {
      "cell_type": "code",
      "source": [
        "import numpy as np\n",
        "arr= np.array([1,4,9,16])\n",
        "print(\"square root:\",np.sqrt(arr))\n",
        "print(\"mean:\",np.mean(arr))"
      ],
      "metadata": {
        "colab": {
          "base_uri": "https://localhost:8080/"
        },
        "id": "VDfYfzLgkUJU",
        "outputId": "e3745421-8d18-408c-c292-ff981862b4a6"
      },
      "execution_count": 8,
      "outputs": [
        {
          "output_type": "stream",
          "name": "stdout",
          "text": [
            "square root: [1. 2. 3. 4.]\n",
            "mean: 7.5\n"
          ]
        }
      ]
    },
    {
      "cell_type": "code",
      "source": [
        "import numpy as np\n",
        "from scipy import stats\n",
        "data= np.array([2,4,6,8,10,12,14,16,18])\n",
        "mean= np.mean(data)\n",
        "median= np.median(data)\n",
        "mode= stats.mode(data)\n",
        "range= np.max(data)-np.min(data)\n",
        "print(\"mean value is:\",mean)\n",
        "print(\"mesian value is:\",median)\n",
        "print(\"mode value is:\",mode)\n",
        "print(\"range value is:\",range  )"
      ],
      "metadata": {
        "colab": {
          "base_uri": "https://localhost:8080/"
        },
        "id": "i3Ceitckk0Pc",
        "outputId": "d0e0fc00-0646-41cb-fa5a-2336cdfabbbf"
      },
      "execution_count": 11,
      "outputs": [
        {
          "output_type": "stream",
          "name": "stdout",
          "text": [
            "mean value is: 10.0\n",
            "mesian value is: 10.0\n",
            "mode value is: ModeResult(mode=np.int64(2), count=np.int64(1))\n",
            "range value is: 16\n"
          ]
        }
      ]
    },
    {
      "cell_type": "code",
      "source": [
        "import numpy as np\n",
        "matrix=np.array([[1,2],[3,4]])\n",
        "print(\"matrix:\\n\",matrix)\n",
        "print(\"transpose:\\n\",matrix)"
      ],
      "metadata": {
        "colab": {
          "base_uri": "https://localhost:8080/"
        },
        "id": "4UG8ThOpoSa9",
        "outputId": "b17c37f3-41a5-417d-84a5-9a2463d229d8"
      },
      "execution_count": 12,
      "outputs": [
        {
          "output_type": "stream",
          "name": "stdout",
          "text": [
            "matrix:\n",
            " [[1 2]\n",
            " [3 4]]\n",
            "transpose:\n",
            " [[1 2]\n",
            " [3 4]]\n"
          ]
        }
      ]
    }
  ]
}