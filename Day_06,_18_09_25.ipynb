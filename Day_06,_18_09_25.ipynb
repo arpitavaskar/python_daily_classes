{
  "nbformat": 4,
  "nbformat_minor": 0,
  "metadata": {
    "colab": {
      "provenance": []
    },
    "kernelspec": {
      "name": "python3",
      "display_name": "Python 3"
    },
    "language_info": {
      "name": "python"
    }
  },
  "cells": [
    {
      "cell_type": "code",
      "execution_count": 13,
      "metadata": {
        "colab": {
          "base_uri": "https://localhost:8080/"
        },
        "id": "dbU4qkSv6SAd",
        "outputId": "0bf90155-78d6-41c1-9eac-76ee5047be27"
      },
      "outputs": [
        {
          "output_type": "stream",
          "name": "stdout",
          "text": [
            "e\n",
            "a\n",
            "o\n",
            "e\n",
            "e\n",
            "i\n",
            "o\n",
            "i\n"
          ]
        }
      ],
      "source": [
        "name = \"kle bk bca college chikodi\"\n",
        "vowels='a','e','i','o','u'\n",
        "for ch in range(len(name)):\n",
        "  if name[ch] in vowels:\n",
        "     print(name[ch])"
      ]
    },
    {
      "cell_type": "code",
      "source": [
        "name = \"arpita prachi shayali shrikumari\"\n",
        "vowels='a','e','i','o','u'\n",
        "for ch in range(len(name)):\n",
        "  if name[ch] in vowels:\n",
        "     print(name[ch])\n"
      ],
      "metadata": {
        "colab": {
          "base_uri": "https://localhost:8080/"
        },
        "id": "vawEJ8TU-zgN",
        "outputId": "4c13042a-8159-401e-db5c-8b11c9bf7e9c"
      },
      "execution_count": 14,
      "outputs": [
        {
          "output_type": "stream",
          "name": "stdout",
          "text": [
            "a\n",
            "i\n",
            "a\n",
            "a\n",
            "i\n",
            "a\n",
            "a\n",
            "i\n",
            "i\n",
            "u\n",
            "a\n",
            "i\n"
          ]
        }
      ]
    },
    {
      "cell_type": "code",
      "source": [
        "\n",
        "name = \"arpita\"\n",
        "vowels='a','e','i','o','u'\n",
        "for ch in range(len(name)):\n",
        "  if name[ch] in vowels:\n",
        "     print(name[ch])"
      ],
      "metadata": {
        "colab": {
          "base_uri": "https://localhost:8080/"
        },
        "id": "wCX_7kyQ82cd",
        "outputId": "30782a38-702a-469a-c684-f20383e95814"
      },
      "execution_count": 15,
      "outputs": [
        {
          "output_type": "stream",
          "name": "stdout",
          "text": [
            "a\n",
            "i\n",
            "a\n"
          ]
        }
      ]
    },
    {
      "cell_type": "code",
      "source": [
        "name = \"Python programing languge\"\n",
        "vowels='a','e','i','o','u'\n",
        "for ch in range(len(name)):\n",
        "  if name[ch] in vowels:\n",
        "     print(name[ch])"
      ],
      "metadata": {
        "colab": {
          "base_uri": "https://localhost:8080/"
        },
        "id": "e8f2AQBT_LRO",
        "outputId": "3649c95c-d9dc-4356-b490-c5b12cca7d58"
      },
      "execution_count": 16,
      "outputs": [
        {
          "output_type": "stream",
          "name": "stdout",
          "text": [
            "o\n",
            "o\n",
            "a\n",
            "i\n",
            "a\n",
            "u\n",
            "e\n"
          ]
        }
      ]
    },
    {
      "cell_type": "code",
      "source": [
        "base =4\n",
        "heigth =5\n",
        "triangle =0.5**base*heigth\n",
        "print(\"area of the triangle is:\",triangle)"
      ],
      "metadata": {
        "colab": {
          "base_uri": "https://localhost:8080/"
        },
        "id": "-MoRZT1tAtqd",
        "outputId": "a5f96c63-4945-45da-8cd8-6c10d15ba7f1"
      },
      "execution_count": 20,
      "outputs": [
        {
          "output_type": "stream",
          "name": "stdout",
          "text": [
            "area of the triangle is: 0.3125\n"
          ]
        }
      ]
    },
    {
      "cell_type": "code",
      "source": [
        "red =4\n",
        "area =3.142*red**2\n",
        "print(\"area of circle is:\",area)"
      ],
      "metadata": {
        "colab": {
          "base_uri": "https://localhost:8080/"
        },
        "id": "ZA8MznToBAid",
        "outputId": "e4d79824-84fd-4fb3-f1f8-16100a4346b1"
      },
      "execution_count": 21,
      "outputs": [
        {
          "output_type": "stream",
          "name": "stdout",
          "text": [
            "area of circle is: 50.272\n"
          ]
        }
      ]
    },
    {
      "cell_type": "code",
      "source": [
        "wid = 25\n",
        "heigth =50\n",
        "area =wid*heigth\n",
        "print(\"area of rectangle is:\",area)"
      ],
      "metadata": {
        "colab": {
          "base_uri": "https://localhost:8080/"
        },
        "id": "yaDuGdFXBnGd",
        "outputId": "d9b831ee-af9a-4e61-cc91-497841e4682f"
      },
      "execution_count": 23,
      "outputs": [
        {
          "output_type": "stream",
          "name": "stdout",
          "text": [
            "area of rectangle is: 1250\n"
          ]
        }
      ]
    },
    {
      "cell_type": "code",
      "source": [
        "Area = 25\n",
        "area = Area*Area\n",
        "print(\"area of square is:\",area)"
      ],
      "metadata": {
        "colab": {
          "base_uri": "https://localhost:8080/"
        },
        "id": "iO7lEp1hBzHs",
        "outputId": "0d43f9fe-4ec8-4901-e8aa-b246c72af48f"
      },
      "execution_count": 24,
      "outputs": [
        {
          "output_type": "stream",
          "name": "stdout",
          "text": [
            "area of square is: 625\n"
          ]
        }
      ]
    },
    {
      "cell_type": "code",
      "source": [
        "ex =[5,15,25,35,105,45,55]\n",
        "largest = max(ex)\n",
        "print(\"the largest number is:\", largest)"
      ],
      "metadata": {
        "colab": {
          "base_uri": "https://localhost:8080/"
        },
        "id": "HzPHKja0CFtW",
        "outputId": "c48a9300-5647-4e85-944b-f246e7e91ea4"
      },
      "execution_count": 26,
      "outputs": [
        {
          "output_type": "stream",
          "name": "stdout",
          "text": [
            "the largest number is: 105\n"
          ]
        }
      ]
    },
    {
      "cell_type": "code",
      "source": [
        "ex =[1,25,75,34,56,87,100,125]\n",
        "largest = max(ex)\n",
        "print(\"the largest number is:\", largest)"
      ],
      "metadata": {
        "colab": {
          "base_uri": "https://localhost:8080/"
        },
        "id": "fmx1y5SeGDXU",
        "outputId": "0a026331-685b-46bd-d311-948a71769fdc"
      },
      "execution_count": 34,
      "outputs": [
        {
          "output_type": "stream",
          "name": "stdout",
          "text": [
            "the largest number is: 125\n"
          ]
        }
      ]
    },
    {
      "cell_type": "code",
      "source": [
        "from ast import Constant\n",
        "#write a programe count of consonets in string value\n",
        "#\"bachelor of computer science first semester section c\"\n",
        "name = \"bachelor of computer science first semester section c\"\n",
        "count =0\n",
        "for ch in name:\n",
        "    if ch not in \"a e i o u\":\n",
        "        count +=1\n",
        "print(count)\n",
        ""
      ],
      "metadata": {
        "colab": {
          "base_uri": "https://localhost:8080/"
        },
        "id": "PY4TiTMTDZB-",
        "outputId": "b168d5ea-ae16-4a2d-ff1b-eaf6b81d3e82"
      },
      "execution_count": 42,
      "outputs": [
        {
          "output_type": "stream",
          "name": "stdout",
          "text": [
            "29\n"
          ]
        }
      ]
    },
    {
      "cell_type": "code",
      "source": [
        " bikes =[\"rx 100\",\"gt 650\",\"ninja\",\"splender\",\"bajaj\",\"ns 200\",\"m 80\",\"unicorn\"]\n",
        " for bike in bikes:\n",
        "  if bike ==\"ns 200\":\n",
        "    break\n",
        "  print(bike)"
      ],
      "metadata": {
        "colab": {
          "base_uri": "https://localhost:8080/"
        },
        "id": "awTSmlbgLDtf",
        "outputId": "f4ebef42-1c2b-4d6c-8b2e-6429c0450fa8"
      },
      "execution_count": 46,
      "outputs": [
        {
          "output_type": "stream",
          "name": "stdout",
          "text": [
            "rx 100\n",
            "gt 650\n",
            "ninja\n",
            "splender\n",
            "bajaj\n"
          ]
        }
      ]
    },
    {
      "cell_type": "code",
      "source": [
        "colours ={\"purple\",\"pink\",\"gray\",\"black\",\"white\",\"Red\",\"Orangr\"}\n",
        "for colour in colours:\n",
        "  if colour ==\"black\":\n",
        "    break\n",
        "  print(colours)\n",
        ""
      ],
      "metadata": {
        "colab": {
          "base_uri": "https://localhost:8080/"
        },
        "id": "K_OjgOuXdp-p",
        "outputId": "b991869f-90b3-4b9e-97b4-f68a277b6e2a"
      },
      "execution_count": 55,
      "outputs": [
        {
          "output_type": "stream",
          "name": "stdout",
          "text": [
            "{'gray', 'black', 'Red', 'purple', 'white', 'pink', 'Orangr'}\n"
          ]
        }
      ]
    },
    {
      "cell_type": "code",
      "source": [
        "Fruits =[\"Apple\",\"Banana\",\"Mango\",\"Strawberry\",\"Dragon fruit\",\"Greeps\",\"Organe\"]\n",
        "for Fruits in Fruits:\n",
        "    if Fruits==\"Greeps\":\n",
        "      break\n",
        "    print(Fruits)ex"
      ],
      "metadata": {
        "colab": {
          "base_uri": "https://localhost:8080/"
        },
        "id": "hqnerTlFedmh",
        "outputId": "1e771a9a-1dee-4086-fa59-228e4fc02af9"
      },
      "execution_count": 59,
      "outputs": [
        {
          "output_type": "stream",
          "name": "stdout",
          "text": [
            "Apple\n",
            "Banana\n",
            "Mango\n",
            "Strawberry\n",
            "Dragon fruit\n"
          ]
        }
      ]
    },
    {
      "cell_type": "code",
      "source": [
        "0Fruits =[\"Apple\",\"Banana\",\"Mango\",\"Strawberry\",\"Dragon fruit\",\"Greeps\",\"Organe\"]\n",
        "for Fruits in Fruits:\n",
        "    if Fruits==\"Greeps\":\n",
        "      continue\n",
        "    print(Fruits)"
      ],
      "metadata": {
        "colab": {
          "base_uri": "https://localhost:8080/"
        },
        "id": "3CG11LykgCOC",
        "outputId": "d921129f-c9e1-4e54-ebad-eb910af2b083"
      },
      "execution_count": 58,
      "outputs": [
        {
          "output_type": "stream",
          "name": "stdout",
          "text": [
            "Apple\n",
            "Banana\n",
            "Mango\n",
            "Strawberry\n",
            "Dragon fruit\n",
            "Organe\n"
          ]
        }
      ]
    },
    {
      "cell_type": "code",
      "source": [
        "mobiles = [\"Vivo\",\"Red MI\",\"OPPO\",\"Vivo\",\"I phone\",\"POCO\",\"Samsung\",\"1 plus\"]\n",
        "for mobile in mobiles:\n",
        "  if mobile ==\"Vivo\":\n",
        "    continue\n",
        "  print(mobile)"
      ],
      "metadata": {
        "colab": {
          "base_uri": "https://localhost:8080/"
        },
        "id": "cCqdEDg1hBlA",
        "outputId": "cd1a348b-3a43-4894-c2bc-68100eeaa7b4"
      },
      "execution_count": 60,
      "outputs": [
        {
          "output_type": "stream",
          "name": "stdout",
          "text": [
            "Red MI\n",
            "OPPO\n",
            "I phone\n",
            "POCO\n",
            "Samsung\n",
            "1 plus\n"
          ]
        }
      ]
    },
    {
      "cell_type": "code",
      "source": [
        "movies=[\"Chhava\",\"KGF\",\"Premalu\",\"RX 100\",\"hum aap ke hai kon\",\"Vivah\",\"Sanam teri kasam\",\"RRR\",\"Ved\",\"Stree\"]\n",
        "for movie in movies:\n",
        "  if movie ==\"Sanam teri kasam\":\n",
        "    continue\n",
        "  print(movie)"
      ],
      "metadata": {
        "colab": {
          "base_uri": "https://localhost:8080/"
        },
        "id": "kIMieHUXjhkM",
        "outputId": "32b08809-3a88-4d64-e20c-8540b97561d3"
      },
      "execution_count": 62,
      "outputs": [
        {
          "output_type": "stream",
          "name": "stdout",
          "text": [
            "Chhava\n",
            "KGF\n",
            "Premalu\n",
            "RX 100\n",
            "hum aap ke hai kon\n",
            "Vivah\n",
            "RRR\n",
            "Ved\n",
            "Stree\n"
          ]
        }
      ]
    },
    {
      "cell_type": "code",
      "source": [
        "for i in range(1,10):\n",
        "  for j in range(i):\n",
        "    print(j,end= \" \")\n",
        "  print()\n"
      ],
      "metadata": {
        "colab": {
          "base_uri": "https://localhost:8080/"
        },
        "id": "CNPGPKtqobPK",
        "outputId": "7c06e78f-5628-4512-d607-3c2197731b8d"
      },
      "execution_count": 95,
      "outputs": [
        {
          "output_type": "stream",
          "name": "stdout",
          "text": [
            "0 \n",
            "0 1 \n",
            "0 1 2 \n",
            "0 1 2 3 \n",
            "0 1 2 3 4 \n",
            "0 1 2 3 4 5 \n",
            "0 1 2 3 4 5 6 \n",
            "0 1 2 3 4 5 6 7 \n",
            "0 1 2 3 4 5 6 7 8 \n"
          ]
        }
      ]
    },
    {
      "cell_type": "code",
      "source": [
        "for i in range(1,11):\n",
        "  for j in range(j):\n",
        "    print(i,end= \" \")\n",
        "  print()\n"
      ],
      "metadata": {
        "colab": {
          "base_uri": "https://localhost:8080/"
        },
        "id": "gMb1eb5X9XUp",
        "outputId": "0df6f885-d863-46bc-f679-64a00b8d2cec"
      },
      "execution_count": 123,
      "outputs": [
        {
          "output_type": "stream",
          "name": "stdout",
          "text": [
            "\n",
            "\n",
            "\n",
            "\n",
            "\n",
            "\n",
            "\n",
            "\n",
            "\n",
            "\n"
          ]
        }
      ]
    },
    {
      "cell_type": "code",
      "source": [
        "for  i in range(1,11):\n",
        "  for j in range(j):\n",
        "    print(i,end=\"\")\n",
        "  print()"
      ],
      "metadata": {
        "colab": {
          "base_uri": "https://localhost:8080/"
        },
        "id": "PFAL8AFj9l-o",
        "outputId": "03e709ab-1937-4629-b5ba-195429298d31"
      },
      "execution_count": 124,
      "outputs": [
        {
          "output_type": "stream",
          "name": "stdout",
          "text": [
            "\n",
            "\n",
            "\n",
            "\n",
            "\n",
            "\n",
            "\n",
            "\n",
            "\n",
            "\n"
          ]
        }
      ]
    }
  ]
}