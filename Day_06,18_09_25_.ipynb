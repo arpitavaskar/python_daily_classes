{
  "nbformat": 4,
  "nbformat_minor": 0,
  "metadata": {
    "colab": {
      "provenance": []
    },
    "kernelspec": {
      "name": "python3",
      "display_name": "Python 3"
    },
    "language_info": {
      "name": "python"
    }
  },
  "cells": [
    {
      "cell_type": "code",
      "execution_count": null,
      "metadata": {
        "colab": {
          "base_uri": "https://localhost:8080/"
        },
        "id": "caKZGijE-1of",
        "outputId": "371ca27f-e102-4382-bbba-ab4161702bab"
      },
      "outputs": [
        {
          "output_type": "stream",
          "name": "stdout",
          "text": [
            " * * * * * * * * \n",
            "  * * * * * * * * \n",
            "   * * * * * * * * \n",
            "    * * * * * * * * \n",
            "     * * * * * * * * \n",
            "      * * * * * * * * \n",
            "       * * * * * * * * \n",
            "        * * * * * * * * \n",
            "         * * * * * * * * \n",
            "          * * * * * * * * \n"
          ]
        }
      ],
      "source": [
        "for i in range(10):\n",
        "  for j in range(0,i+1):\n",
        "    print(\"\",end=\" \")\n",
        "  for j in range(8):\n",
        "    print(\"*\",end=\" \")\n",
        "  print()"
      ]
    },
    {
      "cell_type": "code",
      "source": [
        "for i in range(8):\n",
        "  for j in range(i+1,8):\n",
        "    print(\"\",end=\" \")\n",
        "  for j in range(8):\n",
        "    print(\"*\",end=\" \")\n",
        "  print()"
      ],
      "metadata": {
        "colab": {
          "base_uri": "https://localhost:8080/"
        },
        "id": "jDdooU95_8ae",
        "outputId": "a78fd17e-2d27-4d86-a275-4ae24e58ced4"
      },
      "execution_count": null,
      "outputs": [
        {
          "output_type": "stream",
          "name": "stdout",
          "text": [
            "       * * * * * * * * \n",
            "      * * * * * * * * \n",
            "     * * * * * * * * \n",
            "    * * * * * * * * \n",
            "   * * * * * * * * \n",
            "  * * * * * * * * \n",
            " * * * * * * * * \n",
            "* * * * * * * * \n"
          ]
        }
      ]
    },
    {
      "cell_type": "code",
      "source": [
        "for i in range(10):\n",
        "  for j in range(0,i+1):\n",
        "    print(\"\",end=\" \")\n",
        "  for j in range(10):\n",
        "    print(\"*\",end=\" \")\n",
        "  print()\n",
        "\n",
        "for i in range(10):\n",
        "  for j in range(i+1,10):\n",
        "    print(\"\",end=\" \")\n",
        "  for j in range(10):\n",
        "    print(\"*\",end=\" \")\n",
        "  print()"
      ],
      "metadata": {
        "colab": {
          "base_uri": "https://localhost:8080/"
        },
        "id": "55Sz4HxzBHnf",
        "outputId": "deb4ca0a-8988-4f51-a72f-03aed410fc64"
      },
      "execution_count": null,
      "outputs": [
        {
          "output_type": "stream",
          "name": "stdout",
          "text": [
            " * * * * * * * * * * \n",
            "  * * * * * * * * * * \n",
            "   * * * * * * * * * * \n",
            "    * * * * * * * * * * \n",
            "     * * * * * * * * * * \n",
            "      * * * * * * * * * * \n",
            "       * * * * * * * * * * \n",
            "        * * * * * * * * * * \n",
            "         * * * * * * * * * * \n",
            "          * * * * * * * * * * \n",
            "         * * * * * * * * * * \n",
            "        * * * * * * * * * * \n",
            "       * * * * * * * * * * \n",
            "      * * * * * * * * * * \n",
            "     * * * * * * * * * * \n",
            "    * * * * * * * * * * \n",
            "   * * * * * * * * * * \n",
            "  * * * * * * * * * * \n",
            " * * * * * * * * * * \n",
            "* * * * * * * * * * \n"
          ]
        }
      ]
    },
    {
      "cell_type": "code",
      "source": [
        "for i in range(10):\n",
        "  for j in range(i+1,10):\n",
        "    print(\"\",end=\" \")\n",
        "  for j in range(8):\n",
        "    print(\"*\",end=\" \")\n",
        "  print()\n",
        "for i in range(10):\n",
        "  for j in range(0,i+1):\n",
        "    print(\"\",end=\" \")\n",
        "  for j in range(8):\n",
        "    print(\"*\",end=\" \")\n",
        "  print()"
      ],
      "metadata": {
        "colab": {
          "base_uri": "https://localhost:8080/"
        },
        "id": "jwrjJFY2Bgt7",
        "outputId": "cbe2a211-cc14-4169-f469-52916e2e2438"
      },
      "execution_count": null,
      "outputs": [
        {
          "output_type": "stream",
          "name": "stdout",
          "text": [
            "         * * * * * * * * \n",
            "        * * * * * * * * \n",
            "       * * * * * * * * \n",
            "      * * * * * * * * \n",
            "     * * * * * * * * \n",
            "    * * * * * * * * \n",
            "   * * * * * * * * \n",
            "  * * * * * * * * \n",
            " * * * * * * * * \n",
            "* * * * * * * * \n",
            " * * * * * * * * \n",
            "  * * * * * * * * \n",
            "   * * * * * * * * \n",
            "    * * * * * * * * \n",
            "     * * * * * * * * \n",
            "      * * * * * * * * \n",
            "       * * * * * * * * \n",
            "        * * * * * * * * \n",
            "         * * * * * * * * \n",
            "          * * * * * * * * \n"
          ]
        }
      ]
    },
    {
      "cell_type": "code",
      "source": [
        "for i in range(10):\n",
        "  for j in range(0,i+1):\n",
        "    print(\"\",end=\" \")\n",
        "  for j in range(8):\n",
        "    print(\"*\",end=\" \")\n",
        "  print()\n",
        "for i in range(10):\n",
        "  for j in range(i+1,10):\n",
        "    print(\"\",end=\" \")\n",
        "  for j in range(8):\n",
        "    print(\"*\",end=\" \")\n",
        "  print()\n",
        "for i in range(10):\n",
        "  for j in range(0,i+1):\n",
        "    print(\"\",end=\" \")\n",
        "  for j in range(8):\n",
        "    print(\"*\",end=\" \")\n",
        "  print()\n",
        "\n",
        "for i in range(10):\n",
        "  for j in range(i+1,10):\n",
        "    print(\"\",end=\" \")\n",
        "  for j in range(8):\n",
        "    print(\"*\",end=\" \")\n",
        "  print()"
      ],
      "metadata": {
        "colab": {
          "base_uri": "https://localhost:8080/"
        },
        "id": "i9Gn8AEFBq3O",
        "outputId": "6be4d066-849d-4c21-e218-c88176557175"
      },
      "execution_count": null,
      "outputs": [
        {
          "output_type": "stream",
          "name": "stdout",
          "text": [
            " * * * * * * * * \n",
            "  * * * * * * * * \n",
            "   * * * * * * * * \n",
            "    * * * * * * * * \n",
            "     * * * * * * * * \n",
            "      * * * * * * * * \n",
            "       * * * * * * * * \n",
            "        * * * * * * * * \n",
            "         * * * * * * * * \n",
            "          * * * * * * * * \n",
            "         * * * * * * * * \n",
            "        * * * * * * * * \n",
            "       * * * * * * * * \n",
            "      * * * * * * * * \n",
            "     * * * * * * * * \n",
            "    * * * * * * * * \n",
            "   * * * * * * * * \n",
            "  * * * * * * * * \n",
            " * * * * * * * * \n",
            "* * * * * * * * \n",
            " * * * * * * * * \n",
            "  * * * * * * * * \n",
            "   * * * * * * * * \n",
            "    * * * * * * * * \n",
            "     * * * * * * * * \n",
            "      * * * * * * * * \n",
            "       * * * * * * * * \n",
            "        * * * * * * * * \n",
            "         * * * * * * * * \n",
            "          * * * * * * * * \n",
            "         * * * * * * * * \n",
            "        * * * * * * * * \n",
            "       * * * * * * * * \n",
            "      * * * * * * * * \n",
            "     * * * * * * * * \n",
            "    * * * * * * * * \n",
            "   * * * * * * * * \n",
            "  * * * * * * * * \n",
            " * * * * * * * * \n",
            "* * * * * * * * \n"
          ]
        }
      ]
    },
    {
      "cell_type": "code",
      "source": [
        "for i in range(10):\n",
        "  for j in range(0,i+1):\n",
        "    print(\"\",end=\" \")\n",
        "  for j in range(8):\n",
        "    print(\"@!\",end=\" \")\n",
        "  print()\n",
        "for i in range(10):\n",
        "  for j in range(i+1,10):\n",
        "    print(\"\",end=\" \")\n",
        "  for j in range(8):\n",
        "    print(\"@!\",end=\" \")\n",
        "  print()"
      ],
      "metadata": {
        "colab": {
          "base_uri": "https://localhost:8080/"
        },
        "id": "r9wBvEDNCJ7n",
        "outputId": "0db3a802-2274-4591-f7f8-1dfb2089d444"
      },
      "execution_count": null,
      "outputs": [
        {
          "output_type": "stream",
          "name": "stdout",
          "text": [
            " @! @! @! @! @! @! @! @! \n",
            "  @! @! @! @! @! @! @! @! \n",
            "   @! @! @! @! @! @! @! @! \n",
            "    @! @! @! @! @! @! @! @! \n",
            "     @! @! @! @! @! @! @! @! \n",
            "      @! @! @! @! @! @! @! @! \n",
            "       @! @! @! @! @! @! @! @! \n",
            "        @! @! @! @! @! @! @! @! \n",
            "         @! @! @! @! @! @! @! @! \n",
            "          @! @! @! @! @! @! @! @! \n",
            "         @! @! @! @! @! @! @! @! \n",
            "        @! @! @! @! @! @! @! @! \n",
            "       @! @! @! @! @! @! @! @! \n",
            "      @! @! @! @! @! @! @! @! \n",
            "     @! @! @! @! @! @! @! @! \n",
            "    @! @! @! @! @! @! @! @! \n",
            "   @! @! @! @! @! @! @! @! \n",
            "  @! @! @! @! @! @! @! @! \n",
            " @! @! @! @! @! @! @! @! \n",
            "@! @! @! @! @! @! @! @! \n"
          ]
        }
      ]
    },
    {
      "cell_type": "code",
      "source": [
        "row = 5\n",
        "col = 5\n",
        "for i in range(0,row):\n",
        "  for j in range(0,col):\n",
        "    if i == 0 or j == 0 or i == row-1 or j== col-1:\n",
        "       print(\"*\",end=\" \")\n",
        "    else:\n",
        "      print(\" \",end=\" \")\n",
        "  print()"
      ],
      "metadata": {
        "colab": {
          "base_uri": "https://localhost:8080/"
        },
        "id": "KcRxXo3NDYV2",
        "outputId": "b2e679f2-7eeb-4ce4-9b9f-ec23356d73af"
      },
      "execution_count": null,
      "outputs": [
        {
          "output_type": "stream",
          "name": "stdout",
          "text": [
            "* * * * * \n",
            "*       * \n",
            "*       * \n",
            "*       * \n",
            "* * * * * \n"
          ]
        }
      ]
    },
    {
      "cell_type": "code",
      "source": [
        "row = 15\n",
        "col = 5\n",
        "for i in range(0,row):\n",
        "  for j in range(0,col):\n",
        "    if i == 0 or j == 0 or i == row-1 or j== col-1:\n",
        "       print(\"*\",end=\" \")\n",
        "    else:\n",
        "      print(\" \",end=\" \")\n",
        "  print()"
      ],
      "metadata": {
        "colab": {
          "base_uri": "https://localhost:8080/"
        },
        "id": "7X3llVRhFE1v",
        "outputId": "71447a3d-5130-4079-a8f0-0384e71424fc"
      },
      "execution_count": null,
      "outputs": [
        {
          "output_type": "stream",
          "name": "stdout",
          "text": [
            "* * * * * \n",
            "*       * \n",
            "*       * \n",
            "*       * \n",
            "*       * \n",
            "*       * \n",
            "*       * \n",
            "*       * \n",
            "*       * \n",
            "*       * \n",
            "*       * \n",
            "*       * \n",
            "*       * \n",
            "*       * \n",
            "* * * * * \n"
          ]
        }
      ]
    },
    {
      "cell_type": "code",
      "source": [
        "row = 10\n",
        "col = 10\n",
        "for i in range(0,row):\n",
        "  for j in range(0,col):\n",
        "    if i == 0 or j == 0 or i == row-1 or j== col-1:\n",
        "       print(\"(..)\",end=\" \")\n",
        "    else:\n",
        "      print(\" \",end=\" \")\n",
        "  print()"
      ],
      "metadata": {
        "colab": {
          "base_uri": "https://localhost:8080/"
        },
        "id": "kId_mmz8E0yw",
        "outputId": "ecedf677-7cb9-4b6b-c666-887e1f219ff8"
      },
      "execution_count": null,
      "outputs": [
        {
          "output_type": "stream",
          "name": "stdout",
          "text": [
            "(..) (..) (..) (..) (..) (..) (..) (..) (..) (..) \n",
            "(..)                 (..) \n",
            "(..)                 (..) \n",
            "(..)                 (..) \n",
            "(..)                 (..) \n",
            "(..)                 (..) \n",
            "(..)                 (..) \n",
            "(..)                 (..) \n",
            "(..)                 (..) \n",
            "(..) (..) (..) (..) (..) (..) (..) (..) (..) (..) \n"
          ]
        }
      ]
    },
    {
      "cell_type": "code",
      "source": [
        "row = 10\n",
        "col = 10\n",
        "for i in range(0,row):\n",
        "  for j in range(0,col):\n",
        "    if i == 0 or j == 0 or i == row-1 or j== col-1:\n",
        "       print(\"❤️\",end=\" \")\n",
        "    else:\n",
        "      print(\" \",end=\" \")\n",
        "  print()"
      ],
      "metadata": {
        "colab": {
          "base_uri": "https://localhost:8080/"
        },
        "id": "F7DvmcrBF67J",
        "outputId": "f780106a-5ef0-486a-8260-abc1cf9957bf"
      },
      "execution_count": null,
      "outputs": [
        {
          "output_type": "stream",
          "name": "stdout",
          "text": [
            "❤️ ❤️ ❤️ ❤️ ❤️ ❤️ ❤️ ❤️ ❤️ ❤️ ❤️ ❤️ ❤️ ❤️ ❤️ \n",
            "❤️                           ❤️ \n",
            "❤️                           ❤️ \n",
            "❤️                           ❤️ \n",
            "❤️ ❤️ ❤️ ❤️ ❤️ ❤️ ❤️ ❤️ ❤️ ❤️ ❤️ ❤️ ❤️ ❤️ ❤️ \n"
          ]
        }
      ]
    },
    {
      "cell_type": "code",
      "source": [
        "num =10\n",
        "for i in range(num):\n",
        "  for j in range(0,num-i-1):\n",
        "    print(\" \",end=\" \")\n",
        "  for j in range(0,i*2+1):\n",
        "    print(chr(97+j),end=\" \")\n",
        "  print()"
      ],
      "metadata": {
        "colab": {
          "base_uri": "https://localhost:8080/"
        },
        "id": "gd3toUFuIfUH",
        "outputId": "1ded4f9a-1293-4e00-bf8f-935c89bf49af"
      },
      "execution_count": null,
      "outputs": [
        {
          "output_type": "stream",
          "name": "stdout",
          "text": [
            "                  a \n",
            "                a b c \n",
            "              a b c d e \n",
            "            a b c d e f g \n",
            "          a b c d e f g h i \n",
            "        a b c d e f g h i j k \n",
            "      a b c d e f g h i j k l m \n",
            "    a b c d e f g h i j k l m n o \n",
            "  a b c d e f g h i j k l m n o p q \n",
            "a b c d e f g h i j k l m n o p q r s \n"
          ]
        }
      ]
    },
    {
      "cell_type": "code",
      "source": [
        "num =15\n",
        "for i in range(num):\n",
        "  for j in range(0,num-i-1):\n",
        "    print(\" \",end=\" \")\n",
        "  for j in range(0,i*2+1):\n",
        "    print(\"*\",end=\" \")\n",
        "  print()\n",
        "for i in range(0,num):\n",
        "  for j in range(0,i):\n",
        "    print(\" \",end=\" \")\n",
        "  for j in range(0,(num-i)*2-1):\n",
        "    print(\"*\",end=\" \")\n",
        "  print()"
      ],
      "metadata": {
        "colab": {
          "base_uri": "https://localhost:8080/"
        },
        "id": "E81gp-SzKLIA",
        "outputId": "c134cc7d-4eca-4770-d9bc-da6f79489999"
      },
      "execution_count": null,
      "outputs": [
        {
          "output_type": "stream",
          "name": "stdout",
          "text": [
            "                            * \n",
            "                          * * * \n",
            "                        * * * * * \n",
            "                      * * * * * * * \n",
            "                    * * * * * * * * * \n",
            "                  * * * * * * * * * * * \n",
            "                * * * * * * * * * * * * * \n",
            "              * * * * * * * * * * * * * * * \n",
            "            * * * * * * * * * * * * * * * * * \n",
            "          * * * * * * * * * * * * * * * * * * * \n",
            "        * * * * * * * * * * * * * * * * * * * * * \n",
            "      * * * * * * * * * * * * * * * * * * * * * * * \n",
            "    * * * * * * * * * * * * * * * * * * * * * * * * * \n",
            "  * * * * * * * * * * * * * * * * * * * * * * * * * * * \n",
            "* * * * * * * * * * * * * * * * * * * * * * * * * * * * * \n",
            "* * * * * * * * * * * * * * * * * * * * * * * * * * * * * \n",
            "  * * * * * * * * * * * * * * * * * * * * * * * * * * * \n",
            "    * * * * * * * * * * * * * * * * * * * * * * * * * \n",
            "      * * * * * * * * * * * * * * * * * * * * * * * \n",
            "        * * * * * * * * * * * * * * * * * * * * * \n",
            "          * * * * * * * * * * * * * * * * * * * \n",
            "            * * * * * * * * * * * * * * * * * \n",
            "              * * * * * * * * * * * * * * * \n",
            "                * * * * * * * * * * * * * \n",
            "                  * * * * * * * * * * * \n",
            "                    * * * * * * * * * \n",
            "                      * * * * * * * \n",
            "                        * * * * * \n",
            "                          * * * \n",
            "                            * \n"
          ]
        }
      ]
    },
    {
      "cell_type": "code",
      "source": [
        "# 1)Exaple\n",
        "def example():\n",
        "  print(\"Good Afternoon\")\n",
        "\n",
        "example()"
      ],
      "metadata": {
        "colab": {
          "base_uri": "https://localhost:8080/"
        },
        "id": "tbmhrFovRpgY",
        "outputId": "23a0ffe0-0f04-40c3-ef86-b0b01784c1e8"
      },
      "execution_count": null,
      "outputs": [
        {
          "output_type": "stream",
          "name": "stdout",
          "text": [
            "Good Afternoon\n"
          ]
        }
      ]
    },
    {
      "cell_type": "code",
      "source": [
        "  #1) Example\n",
        "  def fun(num):\n",
        "    return num*num\n",
        "  print(fun(4))"
      ],
      "metadata": {
        "colab": {
          "base_uri": "https://localhost:8080/"
        },
        "id": "0DzBLWYAPhq4",
        "outputId": "4c656e8c-b0e8-4d8e-b38d-ed9d24ecf254"
      },
      "execution_count": null,
      "outputs": [
        {
          "output_type": "execute_result",
          "data": {
            "text/plain": [
              "16"
            ]
          },
          "metadata": {},
          "execution_count": 55
        }
      ]
    },
    {
      "cell_type": "code",
      "source": [
        "def fun(num):\n",
        "    return num*num\n",
        "print(fun(5))"
      ],
      "metadata": {
        "colab": {
          "base_uri": "https://localhost:8080/"
        },
        "id": "ToyCYTSESogn",
        "outputId": "3b294d76-14bc-4c76-ac8c-7a22ae4fe341"
      },
      "execution_count": null,
      "outputs": [
        {
          "output_type": "stream",
          "name": "stdout",
          "text": [
            "25\n"
          ]
        }
      ]
    },
    {
      "cell_type": "code",
      "source": [
        "def add(a,b):\n",
        "  print(f'addition of two numbers is {a+b}')\n",
        "add(5,10)"
      ],
      "metadata": {
        "colab": {
          "base_uri": "https://localhost:8080/"
        },
        "id": "8ltZ4UlkT7Nl",
        "outputId": "9ac94ff2-4648-4609-cad6-df85619552f0"
      },
      "execution_count": null,
      "outputs": [
        {
          "output_type": "stream",
          "name": "stdout",
          "text": [
            "addition of two numbers is 15\n"
          ]
        }
      ]
    },
    {
      "cell_type": "code",
      "source": [
        "def add(a,b):\n",
        "  print(f'addition of two numbers is {a+b}')\n",
        "add(2886,455)"
      ],
      "metadata": {
        "colab": {
          "base_uri": "https://localhost:8080/"
        },
        "id": "R4S2g2IwUX3X",
        "outputId": "2e5fabb2-f83d-492a-9d72-8b6ccefa32d4"
      },
      "execution_count": null,
      "outputs": [
        {
          "output_type": "stream",
          "name": "stdout",
          "text": [
            "addition of two numbers is 3341\n"
          ]
        }
      ]
    },
    {
      "cell_type": "code",
      "source": [
        "def Example (roll_number,name,section,department,college):\n",
        "  print(f\"my name is {name} i'm studing {department} in{college} college.My roll_number is{roll_number} and section is {section}\")\n",
        "Example(46,\"Arpita\",\"A\",\"BCA\",\"KLE\")"
      ],
      "metadata": {
        "colab": {
          "base_uri": "https://localhost:8080/"
        },
        "id": "pC3l-HUAYi5f",
        "outputId": "f322ee11-9243-4399-802c-50d144d62caf"
      },
      "execution_count": null,
      "outputs": [
        {
          "output_type": "stream",
          "name": "stdout",
          "text": [
            "my name is Arpita i'm studing BCA inKLE college.My roll_number is46 and section is A\n"
          ]
        }
      ]
    },
    {
      "cell_type": "code",
      "source": [
        "def fun(name,game,time):\n",
        "  print(f\"I'm {name} and i'm playing {game} at {time} time\")\n",
        "fun(time = \"Evening\", name=\"Arpita\",game=\"throwball\")"
      ],
      "metadata": {
        "colab": {
          "base_uri": "https://localhost:8080/"
        },
        "id": "T_7LYywkdIXI",
        "outputId": "b36f198a-b23a-461f-fbc2-670c63c58c24"
      },
      "execution_count": 90,
      "outputs": [
        {
          "output_type": "stream",
          "name": "stdout",
          "text": [
            "I'm Arpita and i'm playing throwball at Evening time\n"
          ]
        }
      ]
    },
    {
      "cell_type": "code",
      "source": [
        "def Laptop (name=\"Lenovo\"):\n",
        "  print(\"My laptop name is:\",name)\n",
        "Laptop(\"Dell\")\n",
        "Laptop(\"HP\")\n",
        "Laptop()\n",
        "Laptop(\"Asus\")\n",
        "\n"
      ],
      "metadata": {
        "colab": {
          "base_uri": "https://localhost:8080/"
        },
        "id": "UBAqjrHNdtuS",
        "outputId": "5d37c7b4-8d8a-4c9a-f4a2-db15cef86923"
      },
      "execution_count": 91,
      "outputs": [
        {
          "output_type": "stream",
          "name": "stdout",
          "text": [
            "My laptop name is: Dell\n",
            "My laptop name is: HP\n",
            "My laptop name is: Lenovo\n",
            "My laptop name is: Asus\n"
          ]
        }
      ]
    }
  ]
}