{
  "nbformat": 4,
  "nbformat_minor": 0,
  "metadata": {
    "colab": {
      "provenance": []
    },
    "kernelspec": {
      "name": "python3",
      "display_name": "Python 3"
    },
    "language_info": {
      "name": "python"
    }
  },
  "cells": [
    {
      "cell_type": "code",
      "source": [
        "#1) Example sum of number using *,a\n",
        "def add(*args):\n",
        "  total=0\n",
        "  for num in args:\n",
        "    total+= num\n",
        "  print(\"total value is:\",total)\n",
        "add(10,5)\n",
        "add(5,4,9)\n",
        "add(10,45,14,39)\n"
      ],
      "metadata": {
        "colab": {
          "base_uri": "https://localhost:8080/"
        },
        "id": "4FgopSRGMj-M",
        "outputId": "4c9f6ac5-0a2a-476c-ef24-8ee8563dbf57"
      },
      "execution_count": null,
      "outputs": [
        {
          "output_type": "stream",
          "name": "stdout",
          "text": [
            "total value is: 15\n",
            "total value is: 18\n",
            "total value is: 108\n"
          ]
        }
      ]
    },
    {
      "cell_type": "code",
      "source": [
        "def details(**kwarge):\n",
        "  for key,value in kwarge.items():\n",
        "    print(f'My details is {key} and {value}')\n",
        "\n",
        "details(course=\"BCA\", section='C', college=\"BK college\")\n",
        "details(place=\"chikodi\")\n",
        "details(roll_num=201,T_subject=7)\n",
        "details(laptop=\"Lenovo\",OS=\"Window\", year=2022,version=\"Windows\")"
      ],
      "metadata": {
        "colab": {
          "base_uri": "https://localhost:8080/"
        },
        "id": "xZerSFm1NavU",
        "outputId": "b750f773-5486-454d-c677-cdd5cc309319"
      },
      "execution_count": null,
      "outputs": [
        {
          "output_type": "stream",
          "name": "stdout",
          "text": [
            "My details is course and BCA\n",
            "My details is section and C\n",
            "My details is college and BK college\n",
            "My details is place and chikodi\n",
            "My details is roll_num and 201\n",
            "My details is T_subject and 7\n",
            "My details is laptop and Lenovo\n",
            "My details is OS and Window\n",
            "My details is year and 2022\n",
            "My details is version and Windows\n"
          ]
        }
      ]
    },
    {
      "cell_type": "code",
      "source": [
        "#Example of *args and **kwarge\n",
        "def show_values(*args, **kwargs):\n",
        "    print(\"Positional arguments represented in tuple\",args)\n",
        "    print(\"Key-word arguments represented in dictionary\",kwargs)\n",
        "show_values(1,2,3,4,name=\"Arpita\")\n",
        "\n",
        "show_values(5,4,5,24, Class=\"BCA C section\",gender=\"female\")"
      ],
      "metadata": {
        "colab": {
          "base_uri": "https://localhost:8080/"
        },
        "id": "zAYfN3SFRc38",
        "outputId": "49b3bd07-f72e-41a7-ed1d-b86c15f9c1e1"
      },
      "execution_count": null,
      "outputs": [
        {
          "output_type": "stream",
          "name": "stdout",
          "text": [
            "Positional arguments represented in tuple (1, 2, 3, 4)\n",
            "Key-word arguments represented in dictionary {'name': 'Arpita'}\n",
            "Positional arguments represented in tuple (5, 4, 5, 24)\n",
            "Key-word arguments represented in dictionary {'Class': 'BCA C section', 'gender': 'female'}\n"
          ]
        }
      ]
    },
    {
      "cell_type": "code",
      "source": [
        "fact=1\n",
        "for i in range(1,6):\n",
        "  fact=fact*1\n",
        "print(fact)\n",
        "\n",
        "i=1\n",
        "fact=1\n",
        "while i<=6:\n",
        "  fact=fact*i\n",
        "  i=i+1\n",
        "print(fact)\n",
        "i=-1"
      ],
      "metadata": {
        "colab": {
          "base_uri": "https://localhost:8080/"
        },
        "id": "eUCSXDooTTdm",
        "outputId": "a8c24380-4d76-4e2e-d136-82731b36da9f"
      },
      "execution_count": null,
      "outputs": [
        {
          "output_type": "stream",
          "name": "stdout",
          "text": [
            "1\n",
            "720\n"
          ]
        }
      ]
    },
    {
      "cell_type": "code",
      "source": [
        "def fact (num):\n",
        "  if num==0 or num==1:\n",
        "    return 1\n",
        "  else:\n",
        "    return num*fact(num-1)\n",
        "\n",
        "print(fact(5))"
      ],
      "metadata": {
        "colab": {
          "base_uri": "https://localhost:8080/"
        },
        "id": "ptFW4fMDV4fm",
        "outputId": "018051c0-c3fc-41c1-b7a7-c5e8aba50b10"
      },
      "execution_count": null,
      "outputs": [
        {
          "output_type": "stream",
          "name": "stdout",
          "text": [
            "120\n"
          ]
        }
      ]
    },
    {
      "cell_type": "code",
      "source": [
        "def sum(num):\n",
        "  if num==0:\n",
        "    return num\n",
        "  else: return num+sum(num-1)\n",
        "print(sum(10))"
      ],
      "metadata": {
        "colab": {
          "base_uri": "https://localhost:8080/"
        },
        "id": "kx_lmy8mWxjm",
        "outputId": "f37281ff-858b-41bf-e871-30f91ff8cbe8"
      },
      "execution_count": null,
      "outputs": [
        {
          "output_type": "stream",
          "name": "stdout",
          "text": [
            "55\n"
          ]
        }
      ]
    },
    {
      "cell_type": "code",
      "source": [
        "#fibonacci series/ number using function recusion\n",
        "def fibo(num):\n",
        "  if num<=1:\n",
        "    return num\n",
        "  else :\n",
        "    return fibo(num-1)+fibo(num-2)\n",
        "\n",
        "for i in range(7):\n",
        "    print(fibo(i),end=\" \")"
      ],
      "metadata": {
        "colab": {
          "base_uri": "https://localhost:8080/"
        },
        "id": "ejVP18YJatbo",
        "outputId": "20c73620-7dc5-4498-e9b3-4b675aed019a"
      },
      "execution_count": null,
      "outputs": [
        {
          "output_type": "stream",
          "name": "stdout",
          "text": [
            "0 1 1 2 3 5 8 "
          ]
        }
      ]
    },
    {
      "cell_type": "code",
      "source": [
        "def fibo(num):\n",
        "  if num<=1:\n",
        "    return num\n",
        "  else :\n",
        "    return fibo(num-1)+fibo(num-2)\n",
        "\n",
        "for i in range(17):\n",
        "    print(fibo(i),end=\" \")"
      ],
      "metadata": {
        "colab": {
          "base_uri": "https://localhost:8080/"
        },
        "id": "n89JWg6Jd9jQ",
        "outputId": "07127cc9-06bd-4c75-fe4d-699856395159"
      },
      "execution_count": null,
      "outputs": [
        {
          "output_type": "stream",
          "name": "stdout",
          "text": [
            "0 1 1 2 3 5 8 13 21 34 55 89 144 233 377 610 987 "
          ]
        }
      ]
    },
    {
      "cell_type": "code",
      "source": [
        "name=\"Arpita\"\n",
        "print(name[::1])"
      ],
      "metadata": {
        "colab": {
          "base_uri": "https://localhost:8080/"
        },
        "id": "-C9HACdHhtkQ",
        "outputId": "3a65e220-00be-4b65-9d4e-35b60d5bb53c"
      },
      "execution_count": null,
      "outputs": [
        {
          "output_type": "stream",
          "name": "stdout",
          "text": [
            "Arpita\n"
          ]
        }
      ]
    },
    {
      "cell_type": "code",
      "source": [
        "class fruit:\n",
        "  colour=\"Orange\"\n",
        "  prize=250\n",
        "  teste=\"sweet\"\n",
        "  shape=\"circle\"\n",
        "def juice(self):\n",
        "  print(\"good\")\n",
        "Orange =fruit()\n",
        "print(\"Orange colour is\",Orange.colour)\n",
        "print(\"Orange prize is\",Orange.prize)\n",
        "print(\"Orange taste is\",Orange.teste)\n",
        "print(\"Orange shape is\",Orange.shape)\n"
      ],
      "metadata": {
        "colab": {
          "base_uri": "https://localhost:8080/"
        },
        "id": "ath4PLu6lhbA",
        "outputId": "3d3e4133-cd8e-4d0b-fc27-6c44a235dda6"
      },
      "execution_count": null,
      "outputs": [
        {
          "output_type": "stream",
          "name": "stdout",
          "text": [
            "Orange colour is Orange\n",
            "Orange prize is 250\n",
            "Orange taste is sweet\n",
            "Orange shape is circle\n"
          ]
        }
      ]
    },
    {
      "cell_type": "code",
      "source": [
        "class Flower:\n",
        "  smell =\"nice\"\n",
        "  petal=5\n",
        "  size=\"medium\"\n",
        "  gender=\"Female\"\n",
        "  validity=1.5\n",
        "  def Decoration(self):\n",
        "    print(\"Hello Goog morning\")\n",
        "  def Gift(self):\n",
        "    print(\" \")\n",
        "  def Marriage(self):\n",
        "    print(\"Marriage \")\n",
        "  def Death(self):\n",
        "    print(\"this flower using for death time\")\n",
        "\n",
        "Obj= Flower()\n",
        "Obj.Marriage()\n",
        "print(Obj.gender)\n",
        "Obj.Decoration()\n",
        "Obj.Death()"
      ],
      "metadata": {
        "colab": {
          "base_uri": "https://localhost:8080/"
        },
        "id": "Ea8HTjS7tk9b",
        "outputId": "f6ac3d22-5029-435a-8a5c-5e87d961dc10"
      },
      "execution_count": null,
      "outputs": [
        {
          "output_type": "stream",
          "name": "stdout",
          "text": [
            "Marriage \n",
            "Female\n",
            "Hello Goog morning\n",
            "this flower using for death time\n"
          ]
        }
      ]
    },
    {
      "cell_type": "code",
      "source": [
        "class Fan:\n",
        "  colour=\"Black\"\n",
        "  Winge =3\n",
        "  c_name=\"Bajaj\"\n",
        "  price=1500\n",
        "  Warrenty=\"2 years\"\n",
        "  def start(self):\n",
        "    print(\"when click on button it'll start\")\n",
        "  def speed(self):\n",
        "    print(\"based on condition it'll move fast\")\n",
        "  def stop(self):\n",
        "    print(\"when click on off butten it'll start\")\n",
        "\n",
        "Obj= Fan()\n",
        "print(Obj.c_name+ \" \"+Obj.Warrenty)\n",
        "Obj.stop()\n",
        "Obj.start()\n"
      ],
      "metadata": {
        "colab": {
          "base_uri": "https://localhost:8080/"
        },
        "id": "LTFTFxLcx8Il",
        "outputId": "5a95170f-36cb-4163-fee6-803700eec992"
      },
      "execution_count": null,
      "outputs": [
        {
          "output_type": "stream",
          "name": "stdout",
          "text": [
            "Bajaj 2 years\n",
            "when click on off butten it'll start\n",
            "when click on button it'll start\n"
          ]
        }
      ]
    },
    {
      "cell_type": "code",
      "source": [
        "def fun(name):\n",
        "  print(\"my name is a\",name)\n",
        "fun(\"arpita\")"
      ],
      "metadata": {
        "colab": {
          "base_uri": "https://localhost:8080/"
        },
        "id": "BP44lnkf1Kvk",
        "outputId": "f3663a5d-f7ac-4010-e43b-4c9e10f1613a"
      },
      "execution_count": null,
      "outputs": [
        {
          "output_type": "stream",
          "name": "stdout",
          "text": [
            "my name is a arpita\n"
          ]
        }
      ]
    },
    {
      "cell_type": "code",
      "source": [
        "#Banking Example\n",
        "class Bank:\n",
        "  def __init__(self,balance):\n",
        "   self.balance=balance\n",
        "  def Deposit(self,amount):\n",
        "    self.balance+= amount\n",
        "  def Withdraw(self,amount):\n",
        "    if amount<= self.balance:\n",
        "      self.balance-= amount\n",
        "      print(\"Transaction successfully\")\n",
        "    else:\n",
        "      print(\"Insufficient balance\")\n",
        "  def get_balance(self):\n",
        "      return self.balance\n",
        "Obj = Bank(1000)\n",
        "print(Obj.balance)\n",
        "Obj.Deposit(500)\n",
        "print(Obj.balance)\n",
        "Obj.Withdraw(700)\n",
        "print(Obj.balance)\n",
        "Obj.Withdraw(1000)\n",
        "print(Obj.balance)"
      ],
      "metadata": {
        "id": "BXgM4NRuMLLJ"
      },
      "execution_count": null,
      "outputs": []
    },
    {
      "cell_type": "code",
      "source": [],
      "metadata": {
        "id": "AxV29kVUQ-Br"
      },
      "execution_count": null,
      "outputs": []
    },
    {
      "cell_type": "code",
      "source": [
        "#Encapsulation Example\n",
        "class student:\n",
        "  def __init__(self,name,marks,place):\n",
        "    self.__name=name\n",
        "    self.__marks=marks\n",
        "    self.place=place\n",
        "\n",
        "  def set_method(self,name,marks):\n",
        "    self.__name=name\n",
        "    self.__marks=marks\n",
        "\n",
        "  def get_method(self):\n",
        "    return self.__name+ \" \"+str(self.__marks)\n",
        "\n",
        "obj = student(\"Arpita\",46,\"chikodi\")\n",
        "obj.set_method(\"priya\",67)\n",
        "print(obj.get_method())"
      ],
      "metadata": {
        "colab": {
          "base_uri": "https://localhost:8080/"
        },
        "id": "7oFqzn3HMRRB",
        "outputId": "5d3cc7f7-ff3a-41a6-95e9-8ec66ab26fd2"
      },
      "execution_count": 86,
      "outputs": [
        {
          "output_type": "stream",
          "name": "stdout",
          "text": [
            "priya 67\n"
          ]
        }
      ]
    },
    {
      "cell_type": "code",
      "source": [
        "#1) Singal Inheritance\n",
        "class Parent:\n",
        "  def work(self):\n",
        "    print(\"my parents are doing forming\")\n",
        "\n",
        "\n",
        "class children(Parent):\n",
        "  def study(self):\n",
        "    print(\"I'm studying BCA in BK college\")\n",
        "\n",
        "ch = children()\n",
        "ch.work()"
      ],
      "metadata": {
        "colab": {
          "base_uri": "https://localhost:8080/"
        },
        "id": "ccZEzW6Jbo8t",
        "outputId": "d7904315-310c-4187-d41c-8f068ac51378"
      },
      "execution_count": 90,
      "outputs": [
        {
          "output_type": "stream",
          "name": "stdout",
          "text": [
            "my parents are doing forming\n"
          ]
        }
      ]
    },
    {
      "cell_type": "code",
      "source": [
        "#2) Multipale\n",
        "class Father:\n",
        "  def hello(self):\n",
        "    print(\"my father are doing forming\")\n",
        "\n",
        "class Mother:\n",
        "  def byy(self):\n",
        "    print(\"my mother is house wife\")\n",
        "\n",
        "class child(Father,Mother):\n",
        "  def student(self):\n",
        "    print(\"I'm studying BCA in BK college\")\n",
        "\n",
        "obj=child()\n",
        "obj.hello()\n",
        "obj.byy()\n",
        "obj.student()\n",
        "\n",
        "\n"
      ],
      "metadata": {
        "colab": {
          "base_uri": "https://localhost:8080/"
        },
        "id": "Cf3a7CQbc_yG",
        "outputId": "41721c9d-1126-4588-d3c7-437aada16165"
      },
      "execution_count": 100,
      "outputs": [
        {
          "output_type": "stream",
          "name": "stdout",
          "text": [
            "my father are doing forming\n",
            "my mother is house wife\n",
            "I'm studying BCA in BK college\n"
          ]
        }
      ]
    },
    {
      "cell_type": "code",
      "source": [
        "# Multi level Inheritance\n",
        "class Grand_Parent:\n",
        "  def Formar(self):\n",
        "    print(\"****\")\n",
        "\n",
        "class Parent(Grand_Parent):\n",
        "  def House(self):\n",
        "    print(\"$$$$$$$$\")\n",
        "\n",
        "class child(Parent):\n",
        "  def study(self):\n",
        "    print(\"@@@@@@\")\n",
        "\n",
        "obj=child()\n",
        "obj.Formar()\n",
        "obj.House()\n",
        "obj.study()"
      ],
      "metadata": {
        "colab": {
          "base_uri": "https://localhost:8080/"
        },
        "id": "PX1gFcH2gCEm",
        "outputId": "64b56b4e-5377-49f0-bb86-1cd5a94e788c"
      },
      "execution_count": 102,
      "outputs": [
        {
          "output_type": "stream",
          "name": "stdout",
          "text": [
            "****\n",
            "$$$$$$$$\n",
            "@@@@@@\n"
          ]
        }
      ]
    },
    {
      "cell_type": "code",
      "source": [
        "  #Hirarchy Inheritance\n",
        "class Parent:\n",
        "  def work(self):\n",
        "    print(\"my parents are doing forming\")\n",
        "\n",
        "\n",
        "class children(Parent):\n",
        "  def study(self):\n",
        "    print(\"I'm studying BCA in BK college\")\n",
        "\n",
        "class child(children):\n",
        "  def jully(self):\n",
        "    print(\"I'm studying PU in KLE college\")\n",
        "\n",
        "ch = child()\n",
        "ch.work()\n",
        "ch.study()\n",
        "ch.jully()\n"
      ],
      "metadata": {
        "colab": {
          "base_uri": "https://localhost:8080/"
        },
        "id": "gVU1eJzQhr71",
        "outputId": "98be7977-1063-4173-c3f8-5dcc9e702dd8"
      },
      "execution_count": 105,
      "outputs": [
        {
          "output_type": "stream",
          "name": "stdout",
          "text": [
            "my parents are doing forming\n",
            "I'm studying BCA in BK college\n",
            "I'm studying PU in KLE college\n"
          ]
        }
      ]
    },
    {
      "cell_type": "code",
      "source": [
        "# Hybrid Inheritance\n",
        "class A:\n",
        "  def Formar(self):\n",
        "    print(\"****\")\n",
        "\n",
        "class B(A):\n",
        "  def House(self):\n",
        "    print(\"$$$$$$$$\")\n",
        "\n",
        "class C(A):\n",
        "  def bissness(self):\n",
        "    print(\"%%%%\")\n",
        "\n",
        "class D(B,C):\n",
        "  def study(self):\n",
        "    print(\"@@@@@@\")\n",
        "\n",
        "ch = D()\n",
        "ch.Formar()\n",
        "ch.House()\n",
        "ch.bissness()\n",
        "ch.study()\n",
        "\n",
        "\n"
      ],
      "metadata": {
        "colab": {
          "base_uri": "https://localhost:8080/"
        },
        "id": "MadDAy3hlYkv",
        "outputId": "57436dfc-ef04-4751-f31c-772e544c835f"
      },
      "execution_count": 108,
      "outputs": [
        {
          "output_type": "stream",
          "name": "stdout",
          "text": [
            "****\n",
            "$$$$$$$$\n",
            "%%%%\n",
            "@@@@@@\n"
          ]
        }
      ]
    },
    {
      "cell_type": "code",
      "source": [],
      "metadata": {
        "id": "D2ewG5gshqul"
      },
      "execution_count": 104,
      "outputs": []
    }
  ]
}