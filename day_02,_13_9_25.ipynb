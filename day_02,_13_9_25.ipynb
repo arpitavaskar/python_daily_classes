{
  "nbformat": 4,
  "nbformat_minor": 0,
  "metadata": {
    "colab": {
      "provenance": []
    },
    "kernelspec": {
      "name": "python3",
      "display_name": "Python 3"
    },
    "language_info": {
      "name": "python"
    }
  },
  "cells": [
    {
      "cell_type": "code",
      "execution_count": 8,
      "metadata": {
        "colab": {
          "base_uri": "https://localhost:8080/"
        },
        "id": "vm4jyI0hKgoK",
        "outputId": "55a87326-9ce1-4b9f-abc1-bca906904f29"
      },
      "outputs": [
        {
          "output_type": "stream",
          "name": "stdout",
          "text": [
            "ALL OF YOU GOOD MORNING HAVE A NICE DAY\n"
          ]
        }
      ],
      "source": [
        "a, b, c= \"GOOD MORNING\", \"HAVE A NICE DAY\", \"ALL OF YOU\"\n",
        "\n",
        "print (c, a, b)"
      ]
    },
    {
      "cell_type": "code",
      "source": [
        "college = \"KLE's BK chikodi\"\n",
        "degree  = \"BCA\"\n",
        "rollno = 46\n",
        "name = \"Arpita\"\n",
        "print(\"hi, good mooring\",\",I'm\",name,\",i'm studying\",degree,\"in\",college, \",my roll number is\",rollno )"
      ],
      "metadata": {
        "colab": {
          "base_uri": "https://localhost:8080/"
        },
        "id": "PvdygMwCMU1X",
        "outputId": "f955bfbe-0076-4ce7-c049-24df03c9d85a"
      },
      "execution_count": 15,
      "outputs": [
        {
          "output_type": "stream",
          "name": "stdout",
          "text": [
            "hi, good mooring ,I'm Arpita ,i'm studying BCA in KLE's BK chikodi ,my roll number is 46\n"
          ]
        }
      ]
    },
    {
      "cell_type": "code",
      "source": [
        "x = y = z = 1001\n",
        "print(x,y,z)"
      ],
      "metadata": {
        "colab": {
          "base_uri": "https://localhost:8080/"
        },
        "id": "kNPssVe7QIz3",
        "outputId": "f8727be8-9b9e-4105-910f-30e097ac6317"
      },
      "execution_count": 16,
      "outputs": [
        {
          "output_type": "stream",
          "name": "stdout",
          "text": [
            "1001 1001 1001\n"
          ]
        }
      ]
    },
    {
      "cell_type": "code",
      "source": [
        "a = b,c = \"college\",25\n",
        "print(b,c)"
      ],
      "metadata": {
        "colab": {
          "base_uri": "https://localhost:8080/"
        },
        "id": "GNDmpFWSQhcL",
        "outputId": "31877452-ad31-4c7a-de90-9ab970cc6cc7"
      },
      "execution_count": 18,
      "outputs": [
        {
          "output_type": "stream",
          "name": "stdout",
          "text": [
            "college 25\n"
          ]
        }
      ]
    },
    {
      "cell_type": "code",
      "source": [
        "a =b, c =\"college\", 25\n",
        "print(b,c ,a)"
      ],
      "metadata": {
        "colab": {
          "base_uri": "https://localhost:8080/"
        },
        "id": "JVUASNe1QvNf",
        "outputId": "bfcf3d45-1284-441e-c971-6d74d6cd7172"
      },
      "execution_count": 19,
      "outputs": [
        {
          "output_type": "stream",
          "name": "stdout",
          "text": [
            "college 25 ('college', 25)\n"
          ]
        }
      ]
    },
    {
      "cell_type": "code",
      "source": [
        "A = 10\n",
        "B = 20\n",
        "print(\"addition of\",A, \"and\",B,\"is 30\")"
      ],
      "metadata": {
        "colab": {
          "base_uri": "https://localhost:8080/"
        },
        "id": "Y2zSC6FORCQ3",
        "outputId": "5baeea31-0ccd-4ce9-a0be-71ef5c530f81"
      },
      "execution_count": 23,
      "outputs": [
        {
          "output_type": "stream",
          "name": "stdout",
          "text": [
            "addition of 10 and 20 is 30\n"
          ]
        }
      ]
    },
    {
      "cell_type": "code",
      "source": [
        "A = 10\n",
        "print(type(A))"
      ],
      "metadata": {
        "colab": {
          "base_uri": "https://localhost:8080/"
        },
        "id": "QAlRqvwkUJCC",
        "outputId": "ab69e939-c2a5-497c-c201-ecb6730ae4bb"
      },
      "execution_count": 24,
      "outputs": [
        {
          "output_type": "stream",
          "name": "stdout",
          "text": [
            "<class 'int'>\n"
          ]
        }
      ]
    },
    {
      "cell_type": "code",
      "source": [
        "x = 35\n",
        "print(type(x))"
      ],
      "metadata": {
        "colab": {
          "base_uri": "https://localhost:8080/"
        },
        "id": "_D8m1kgxVRWo",
        "outputId": "35940999-0a5a-4a22-f6d8-be5718d87fcd"
      },
      "execution_count": 25,
      "outputs": [
        {
          "output_type": "stream",
          "name": "stdout",
          "text": [
            "<class 'int'>\n"
          ]
        }
      ]
    },
    {
      "cell_type": "code",
      "source": [
        "value = 3.33\n",
        "print(type(value))"
      ],
      "metadata": {
        "colab": {
          "base_uri": "https://localhost:8080/"
        },
        "id": "mEBAWwC-Yrxn",
        "outputId": "106711fc-b728-488f-e86f-6cf357bceccd"
      },
      "execution_count": 26,
      "outputs": [
        {
          "output_type": "stream",
          "name": "stdout",
          "text": [
            "<class 'float'>\n"
          ]
        }
      ]
    },
    {
      "cell_type": "code",
      "source": [
        "value = -100.33\n",
        "print(type(value))"
      ],
      "metadata": {
        "colab": {
          "base_uri": "https://localhost:8080/"
        },
        "id": "zbGrsyMYXIAD",
        "outputId": "8658ee0d-11ec-4807-9d36-b32eb161b591"
      },
      "execution_count": 27,
      "outputs": [
        {
          "output_type": "stream",
          "name": "stdout",
          "text": [
            "<class 'float'>\n"
          ]
        }
      ]
    },
    {
      "cell_type": "code",
      "source": [
        "name = 3.17\n",
        "print(type(name))"
      ],
      "metadata": {
        "colab": {
          "base_uri": "https://localhost:8080/"
        },
        "id": "zkrbI1DgYqna",
        "outputId": "bac957f8-e6b0-469b-fe8a-8e2c5d23321d"
      },
      "execution_count": 29,
      "outputs": [
        {
          "output_type": "stream",
          "name": "stdout",
          "text": [
            "<class 'float'>\n"
          ]
        }
      ]
    },
    {
      "cell_type": "code",
      "source": [
        "run =+1223\n",
        "print(type(run))"
      ],
      "metadata": {
        "colab": {
          "base_uri": "https://localhost:8080/"
        },
        "id": "874N82nsZh1D",
        "outputId": "65001a47-431a-4743-f1db-a434789dc84b"
      },
      "execution_count": 30,
      "outputs": [
        {
          "output_type": "stream",
          "name": "stdout",
          "text": [
            "<class 'int'>\n"
          ]
        }
      ]
    },
    {
      "cell_type": "code",
      "source": [
        "yes = True\n",
        "print(yes)"
      ],
      "metadata": {
        "colab": {
          "base_uri": "https://localhost:8080/"
        },
        "id": "Ua_wDKJIZ6Pa",
        "outputId": "dd44c5c6-a522-44a6-c789-50427c3ce5fe"
      },
      "execution_count": 38,
      "outputs": [
        {
          "output_type": "stream",
          "name": "stdout",
          "text": [
            "True\n"
          ]
        }
      ]
    },
    {
      "cell_type": "code",
      "source": [
        "yes = True\n",
        "print(type(yes))"
      ],
      "metadata": {
        "colab": {
          "base_uri": "https://localhost:8080/"
        },
        "id": "EkgbtL9_ag9r",
        "outputId": "6a035bc2-f14b-4de6-9c01-24b4ce0afaef"
      },
      "execution_count": 39,
      "outputs": [
        {
          "output_type": "stream",
          "name": "stdout",
          "text": [
            "<class 'bool'>\n"
          ]
        }
      ]
    },
    {
      "cell_type": "code",
      "source": [
        "yes = 18\n",
        "print(type(yes))"
      ],
      "metadata": {
        "colab": {
          "base_uri": "https://localhost:8080/"
        },
        "id": "XnTLkFvCasOt",
        "outputId": "6dc75f09-a1a2-406f-9094-086f95a8eaf9"
      },
      "execution_count": 40,
      "outputs": [
        {
          "output_type": "stream",
          "name": "stdout",
          "text": [
            "<class 'int'>\n"
          ]
        }
      ]
    },
    {
      "cell_type": "code",
      "source": [
        "yes = \"false\"\n",
        "print(type(yes))"
      ],
      "metadata": {
        "colab": {
          "base_uri": "https://localhost:8080/"
        },
        "id": "7x5Ux_-Na7Ml",
        "outputId": "7925b61f-79ae-40d6-a2e5-ebd869467317"
      },
      "execution_count": 41,
      "outputs": [
        {
          "output_type": "stream",
          "name": "stdout",
          "text": [
            "<class 'str'>\n"
          ]
        }
      ]
    },
    {
      "cell_type": "code",
      "source": [
        "value = 27.21\n",
        "print(type(value))"
      ],
      "metadata": {
        "colab": {
          "base_uri": "https://localhost:8080/"
        },
        "id": "27548HY6bx0z",
        "outputId": "2da54f31-3150-4f1c-a00a-4fd35ba94946"
      },
      "execution_count": 42,
      "outputs": [
        {
          "output_type": "stream",
          "name": "stdout",
          "text": [
            "<class 'float'>\n"
          ]
        }
      ]
    },
    {
      "cell_type": "code",
      "source": [
        "section ='c'\n",
        "print(type(section))"
      ],
      "metadata": {
        "colab": {
          "base_uri": "https://localhost:8080/"
        },
        "id": "lRzn7_tgb99l",
        "outputId": "8c03ee26-ec44-49be-dc58-dd57ed7eb277"
      },
      "execution_count": 44,
      "outputs": [
        {
          "output_type": "stream",
          "name": "stdout",
          "text": [
            "<class 'str'>\n"
          ]
        }
      ]
    },
    {
      "cell_type": "code",
      "source": [
        "s = '''c'''\n",
        "print(type(s))"
      ],
      "metadata": {
        "colab": {
          "base_uri": "https://localhost:8080/"
        },
        "id": "ZQO3XemycQCF",
        "outputId": "bd501ca3-8c9e-4d9b-feae-4f55077a2b54"
      },
      "execution_count": 45,
      "outputs": [
        {
          "output_type": "stream",
          "name": "stdout",
          "text": [
            "<class 'str'>\n"
          ]
        }
      ]
    },
    {
      "cell_type": "code",
      "source": [
        "pr = \"program\"\n",
        "print(type(pr))"
      ],
      "metadata": {
        "colab": {
          "base_uri": "https://localhost:8080/"
        },
        "id": "RoRWwG3AcfIl",
        "outputId": "1ebae2b5-0693-42dd-c1bd-221f7c83a545"
      },
      "execution_count": 47,
      "outputs": [
        {
          "output_type": "stream",
          "name": "stdout",
          "text": [
            "<class 'str'>\n"
          ]
        }
      ]
    },
    {
      "cell_type": "code",
      "source": [
        " f = \"BKC\"\n",
        " s = \"COLLEGE\"\n",
        " print(f, s)"
      ],
      "metadata": {
        "colab": {
          "base_uri": "https://localhost:8080/"
        },
        "id": "muYOe-eJcsK1",
        "outputId": "46141aee-9ceb-4fce-e0ec-79070d8b48e9"
      },
      "execution_count": 49,
      "outputs": [
        {
          "output_type": "stream",
          "name": "stdout",
          "text": [
            "BKC COLLEGE\n"
          ]
        }
      ]
    },
    {
      "cell_type": "code",
      "source": [
        "f = \"bk\"\n",
        "s = \"college\"\n",
        "print(((f +\"\"+s)+\"\\n\")*5)"
      ],
      "metadata": {
        "colab": {
          "base_uri": "https://localhost:8080/"
        },
        "id": "wfO__02dgPil",
        "outputId": "2a0a7eea-76dc-4433-cb4e-81483bf07a2b"
      },
      "execution_count": 75,
      "outputs": [
        {
          "output_type": "stream",
          "name": "stdout",
          "text": [
            "bkcollege\n",
            "bkcollege\n",
            "bkcollege\n",
            "bkcollege\n",
            "bkcollege\n",
            "\n"
          ]
        }
      ]
    },
    {
      "cell_type": "code",
      "source": [
        "name = \"python programming languages\"\n",
        "\n",
        "print(name[5])"
      ],
      "metadata": {
        "colab": {
          "base_uri": "https://localhost:8080/"
        },
        "id": "4T8FsVD4iG1t",
        "outputId": "66a6ef57-3f91-4322-ac31-3f2900af33e6"
      },
      "execution_count": 88,
      "outputs": [
        {
          "output_type": "stream",
          "name": "stdout",
          "text": [
            "n\n"
          ]
        }
      ]
    },
    {
      "cell_type": "code",
      "source": [
        "name = \"python programming languages\"\n",
        "print(name[7])"
      ],
      "metadata": {
        "colab": {
          "base_uri": "https://localhost:8080/"
        },
        "id": "rUb3yFfpnEGd",
        "outputId": "b42c65b8-b565-4458-fb29-55b2cff33633"
      },
      "execution_count": 93,
      "outputs": [
        {
          "output_type": "stream",
          "name": "stdout",
          "text": [
            "p\n"
          ]
        }
      ]
    },
    {
      "cell_type": "code",
      "source": [
        "name = \"python programming languages\"\n",
        "print(name[1:19])"
      ],
      "metadata": {
        "colab": {
          "base_uri": "https://localhost:8080/"
        },
        "id": "Sz5GVtmnnX1h",
        "outputId": "39813894-08bf-43cc-a816-ba6ca25edbc6"
      },
      "execution_count": 95,
      "outputs": [
        {
          "output_type": "stream",
          "name": "stdout",
          "text": [
            "ython programming \n"
          ]
        }
      ]
    },
    {
      "cell_type": "code",
      "source": [
        "name = \"python programming languages\"\n",
        "print(name[0:28])"
      ],
      "metadata": {
        "colab": {
          "base_uri": "https://localhost:8080/"
        },
        "id": "WAhIhT_unjnF",
        "outputId": "1e3c92b8-64ac-4885-a77d-bb25651a1fcf"
      },
      "execution_count": 97,
      "outputs": [
        {
          "output_type": "stream",
          "name": "stdout",
          "text": [
            "python programming languages\n"
          ]
        }
      ]
    },
    {
      "cell_type": "code",
      "source": [
        "name = \"python programming languages\"\n",
        "print(name[6:19])\n"
      ],
      "metadata": {
        "colab": {
          "base_uri": "https://localhost:8080/"
        },
        "id": "oJTxQeSWoMWX",
        "outputId": "8aa75609-7d27-4413-da67-c234761b4088"
      },
      "execution_count": 102,
      "outputs": [
        {
          "output_type": "stream",
          "name": "stdout",
          "text": [
            " programming \n"
          ]
        }
      ]
    },
    {
      "cell_type": "code",
      "source": [
        "name = \"python programming languages\"\n",
        "print(name[-12:-4])"
      ],
      "metadata": {
        "colab": {
          "base_uri": "https://localhost:8080/"
        },
        "id": "w8saARS4pGPW",
        "outputId": "c28f18d0-edf3-4b64-fda4-ca36895fe6f6"
      },
      "execution_count": 103,
      "outputs": [
        {
          "output_type": "stream",
          "name": "stdout",
          "text": [
            "ng langu\n"
          ]
        }
      ]
    },
    {
      "cell_type": "code",
      "source": [
        "name = \"python programming languages\"\n",
        "print(name[::1])"
      ],
      "metadata": {
        "colab": {
          "base_uri": "https://localhost:8080/"
        },
        "id": "azj8CdxJpNZi",
        "outputId": "4726556c-e567-47c3-9c3f-bd31d1429005"
      },
      "execution_count": 105,
      "outputs": [
        {
          "output_type": "stream",
          "name": "stdout",
          "text": [
            "python programming languages\n"
          ]
        }
      ]
    },
    {
      "cell_type": "code",
      "source": [
        "name = \"python programming languages\"\n",
        "print(name[::2])\n"
      ],
      "metadata": {
        "colab": {
          "base_uri": "https://localhost:8080/"
        },
        "id": "khAipUWYqAia",
        "outputId": "0b8c3047-5e84-49c3-f67b-aed5e11e1c84"
      },
      "execution_count": 109,
      "outputs": [
        {
          "output_type": "stream",
          "name": "stdout",
          "text": [
            "pto rgamn agae\n"
          ]
        }
      ]
    },
    {
      "cell_type": "code",
      "source": [
        "name = \"python programming languages\"\n",
        "print(name[::-1])"
      ],
      "metadata": {
        "colab": {
          "base_uri": "https://localhost:8080/"
        },
        "id": "cCZNjM2UqYrA",
        "outputId": "270f9cde-1822-4668-9780-0790b757fd96"
      },
      "execution_count": 112,
      "outputs": [
        {
          "output_type": "stream",
          "name": "stdout",
          "text": [
            "segaugnal gnimmargorp nohtyp\n"
          ]
        }
      ]
    },
    {
      "cell_type": "code",
      "source": [
        "name = \"python programming languages\"\n",
        "print(name[::-3])"
      ],
      "metadata": {
        "colab": {
          "base_uri": "https://localhost:8080/"
        },
        "id": "UrpW0hg4qncB",
        "outputId": "40b87c6d-dcc9-466a-f1a8-4c9f3501a58e"
      },
      "execution_count": 113,
      "outputs": [
        {
          "output_type": "stream",
          "name": "stdout",
          "text": [
            "san iao hp\n"
          ]
        }
      ]
    },
    {
      "cell_type": "code",
      "source": [
        "name = \"python programming languages\"\n",
        "print(name[::-5])\n",
        "print(name[::-7])\n"
      ],
      "metadata": {
        "colab": {
          "base_uri": "https://localhost:8080/"
        },
        "id": "YNHTVRRUqwHL",
        "outputId": "5ee4ff51-5e8c-4b5c-d5a1-db3b66f753aa"
      },
      "execution_count": 115,
      "outputs": [
        {
          "output_type": "stream",
          "name": "stdout",
          "text": [
            "sggapt\n",
            "sam \n"
          ]
        }
      ]
    },
    {
      "cell_type": "code",
      "source": [
        " details = ''' multi line comments hi, good morning'''\n",
        " print(details)"
      ],
      "metadata": {
        "colab": {
          "base_uri": "https://localhost:8080/"
        },
        "id": "ByOhvK6ssH76",
        "outputId": "98e281ea-c6c3-490c-d35a-e8e799c1081f"
      },
      "execution_count": 116,
      "outputs": [
        {
          "output_type": "stream",
          "name": "stdout",
          "text": [
            " multi line comments hi, good morning\n"
          ]
        }
      ]
    },
    {
      "cell_type": "code",
      "source": [
        "roll_no= 1,2,3,4,5,6,7,8,9,10,11,12,13,14,15,16,17,18,19,20,21,22,23,24,25,26,27,28,29,30,31,32,33,34,35,36,37,38,39,40,41,42,43,44,45,46,47,48,49,50,51,52,53,54,55,56,57,58,59,60\n",
        "print(roll_no[5])\n",
        "print(roll_no[0:60])\n",
        "\n"
      ],
      "metadata": {
        "colab": {
          "base_uri": "https://localhost:8080/"
        },
        "id": "X7R7e_ift-Ph",
        "outputId": "bfe2f189-3ba8-4b77-a30a-f937f1b11ea1"
      },
      "execution_count": 121,
      "outputs": [
        {
          "output_type": "stream",
          "name": "stdout",
          "text": [
            "6\n",
            "(1, 2, 3, 4, 5, 6, 7, 8, 9, 10, 11, 12, 13, 14, 15, 16, 17, 18, 19, 20, 21, 22, 23, 24, 25, 26, 27, 28, 29, 30, 31, 32, 33, 34, 35, 36, 37, 38, 39, 40, 41, 42, 43, 44, 45, 46, 47, 48, 49, 50, 51, 52, 53, 54, 55, 56, 57, 58, 59, 60)\n"
          ]
        }
      ]
    }
  ]
}