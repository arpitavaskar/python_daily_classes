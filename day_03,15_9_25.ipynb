{
  "nbformat": 4,
  "nbformat_minor": 0,
  "metadata": {
    "colab": {
      "provenance": []
    },
    "kernelspec": {
      "name": "python3",
      "display_name": "Python 3"
    },
    "language_info": {
      "name": "python"
    }
  },
  "cells": [
    {
      "cell_type": "code",
      "execution_count": 150,
      "metadata": {
        "colab": {
          "base_uri": "https://localhost:8080/"
        },
        "id": "m9r9V52-ecn7",
        "outputId": "78e3043b-5243-4311-9ec3-4111968871f8"
      },
      "outputs": [
        {
          "output_type": "stream",
          "name": "stdout",
          "text": [
            "6\n"
          ]
        }
      ],
      "source": [
        "#adress=2021\n",
        "print(3+3)\n",
        ""
      ]
    },
    {
      "cell_type": "code",
      "source": [
        "example = (1,\"sarath\",3.12,False)\n",
        "print(example)\n",
        "print(len(example))\n",
        "print(type(example))\n",
        "print(example.count(1))\n",
        "print(example[0:3])\n",
        "print(example[3])\n",
        "print(example[-1])\n"
      ],
      "metadata": {
        "colab": {
          "base_uri": "https://localhost:8080/"
        },
        "id": "NN3bniGJhUDY",
        "outputId": "e7cdb088-7540-4466-c05c-9f5686e8ca0a"
      },
      "execution_count": 151,
      "outputs": [
        {
          "output_type": "stream",
          "name": "stdout",
          "text": [
            "(1, 'sarath', 3.12, False)\n",
            "4\n",
            "<class 'tuple'>\n",
            "1\n",
            "(1, 'sarath', 3.12)\n",
            "False\n",
            "False\n"
          ]
        }
      ]
    },
    {
      "cell_type": "code",
      "source": [
        "number = (2,4,7,9,3,2)\n",
        "print(number)\n",
        "print(number[3])\n",
        "add = (2,4,5,7)\n",
        "print(number + add)\n",
        "print(add * 4)\n",
        "print(number * 3)\n",
        ""
      ],
      "metadata": {
        "colab": {
          "base_uri": "https://localhost:8080/"
        },
        "id": "fzataP7-lW4S",
        "outputId": "9e4d7b6c-a99a-4171-8c51-2d42762c1139"
      },
      "execution_count": 152,
      "outputs": [
        {
          "output_type": "stream",
          "name": "stdout",
          "text": [
            "(2, 4, 7, 9, 3, 2)\n",
            "9\n",
            "(2, 4, 7, 9, 3, 2, 2, 4, 5, 7)\n",
            "(2, 4, 5, 7, 2, 4, 5, 7, 2, 4, 5, 7, 2, 4, 5, 7)\n",
            "(2, 4, 7, 9, 3, 2, 2, 4, 7, 9, 3, 2, 2, 4, 7, 9, 3, 2)\n"
          ]
        }
      ]
    },
    {
      "cell_type": "code",
      "source": [
        "ex = {1,1,2,3,4,5,6,6,7}\n",
        "print(ex)\n",
        "print(type(ex))\n",
        "print(len(ex))\n",
        "ex.add(\"bkc\")\n",
        "print(ex)\n",
        "ex.add(5.67)\n",
        "print(ex)\n",
        "ex.add(\"True\")\n",
        "print(ex)\n",
        "ex.remove(4)\n",
        "print(ex)\n",
        "print(ex.pop())\n",
        "print(ex)\n"
      ],
      "metadata": {
        "colab": {
          "base_uri": "https://localhost:8080/"
        },
        "id": "EeDTuVidnG8r",
        "outputId": "742439d4-32f0-4df8-ed59-d4325d944b61"
      },
      "execution_count": 153,
      "outputs": [
        {
          "output_type": "stream",
          "name": "stdout",
          "text": [
            "{1, 2, 3, 4, 5, 6, 7}\n",
            "<class 'set'>\n",
            "7\n",
            "{1, 2, 3, 4, 5, 6, 7, 'bkc'}\n",
            "{1, 2, 3, 4, 5, 6, 7, 5.67, 'bkc'}\n",
            "{1, 2, 3, 4, 5, 6, 7, 5.67, 'True', 'bkc'}\n",
            "{1, 2, 3, 5, 6, 7, 5.67, 'True', 'bkc'}\n",
            "1\n",
            "{2, 3, 5, 6, 7, 5.67, 'True', 'bkc'}\n"
          ]
        }
      ]
    },
    {
      "cell_type": "code",
      "source": [
        "first = {1,2,3,4,4,2}\n",
        "second = {3,5,4,6}\n",
        "print(first | second)\n",
        "print(first.union(second))\n",
        "print(first&second)\n",
        "print(first.intersection(second))\n",
        "print(first.difference(second))\n",
        "print(first - second)\n",
        "print(second - first)\n",
        "print(second.difference(first ))"
      ],
      "metadata": {
        "colab": {
          "base_uri": "https://localhost:8080/"
        },
        "id": "eKmMoL3TtfvV",
        "outputId": "124ba2f3-ecd3-4203-be17-9fbff6466e1a"
      },
      "execution_count": 154,
      "outputs": [
        {
          "output_type": "stream",
          "name": "stdout",
          "text": [
            "{1, 2, 3, 4, 5, 6}\n",
            "{1, 2, 3, 4, 5, 6}\n",
            "{3, 4}\n",
            "{3, 4}\n",
            "{1, 2}\n",
            "{1, 2}\n",
            "{5, 6}\n",
            "{5, 6}\n"
          ]
        }
      ]
    },
    {
      "cell_type": "code",
      "source": [
        "dict = {\"roll_number\" :  201,\n",
        "        \"name\"        : \"arpita\",\n",
        "        \"address\"     : \"sadalga\",\n",
        "        \"CGPA\"        :  8.56,\n",
        "        \"course\"      : \"BCA\",\n",
        "        \"year\"        :  2025}\n",
        "print(dict)\n",
        "print(len(dict))\n",
        "dict[\"gender\"]=\"female\"\n",
        "print(dict)\n",
        "dict[\"mobile_no\"] = 7996887185\n",
        "print(dict)\n",
        "dict[\"College\"] = \"KLE's BK college\"\n",
        "print(dict)\n",
        "dict[\"PU College\"] = \"CLE PUcollege ckd\"\n",
        "print(dict)\n",
        "dict[\"UNIVERSITY\"] = \"RCU Belgum\"\n",
        "print(dict)\n",
        "del dict[\"gender\"]\n",
        "print(dict)\n",
        "dict[\"gender\"] =\"female\"\n",
        "print(dict)\n",
        "print(dict[\"College\"])\n",
        "dict[\"age\"] = 18\n",
        "print(dict)\n",
        "print(dict[\"age\"])\n",
        "dict.pop(\"address\")\n",
        "print(dict)\n",
        "dict.popitem()\n",
        "print(dict)\n",
        "print(dict.keys())\n",
        "print(dict.values())\n",
        "print(dict.items())\n",
        "print(dict.clear())\n",
        "\n"
      ],
      "metadata": {
        "colab": {
          "base_uri": "https://localhost:8080/"
        },
        "id": "2MTGl2FExnTy",
        "outputId": "6d42fa4f-410a-4a40-f149-4e5e1bffeaa4"
      },
      "execution_count": 155,
      "outputs": [
        {
          "output_type": "stream",
          "name": "stdout",
          "text": [
            "{'roll_number': 201, 'name': 'arpita', 'address': 'sadalga', 'CGPA': 8.56, 'course': 'BCA', 'year': 2025}\n",
            "6\n",
            "{'roll_number': 201, 'name': 'arpita', 'address': 'sadalga', 'CGPA': 8.56, 'course': 'BCA', 'year': 2025, 'gender': 'female'}\n",
            "{'roll_number': 201, 'name': 'arpita', 'address': 'sadalga', 'CGPA': 8.56, 'course': 'BCA', 'year': 2025, 'gender': 'female', 'mobile_no': 7996887185}\n",
            "{'roll_number': 201, 'name': 'arpita', 'address': 'sadalga', 'CGPA': 8.56, 'course': 'BCA', 'year': 2025, 'gender': 'female', 'mobile_no': 7996887185, 'College': \"KLE's BK college\"}\n",
            "{'roll_number': 201, 'name': 'arpita', 'address': 'sadalga', 'CGPA': 8.56, 'course': 'BCA', 'year': 2025, 'gender': 'female', 'mobile_no': 7996887185, 'College': \"KLE's BK college\", 'PU College': 'CLE PUcollege ckd'}\n",
            "{'roll_number': 201, 'name': 'arpita', 'address': 'sadalga', 'CGPA': 8.56, 'course': 'BCA', 'year': 2025, 'gender': 'female', 'mobile_no': 7996887185, 'College': \"KLE's BK college\", 'PU College': 'CLE PUcollege ckd', 'UNIVERSITY': 'RCU Belgum'}\n",
            "{'roll_number': 201, 'name': 'arpita', 'address': 'sadalga', 'CGPA': 8.56, 'course': 'BCA', 'year': 2025, 'mobile_no': 7996887185, 'College': \"KLE's BK college\", 'PU College': 'CLE PUcollege ckd', 'UNIVERSITY': 'RCU Belgum'}\n",
            "{'roll_number': 201, 'name': 'arpita', 'address': 'sadalga', 'CGPA': 8.56, 'course': 'BCA', 'year': 2025, 'mobile_no': 7996887185, 'College': \"KLE's BK college\", 'PU College': 'CLE PUcollege ckd', 'UNIVERSITY': 'RCU Belgum', 'gender': 'female'}\n",
            "KLE's BK college\n",
            "{'roll_number': 201, 'name': 'arpita', 'address': 'sadalga', 'CGPA': 8.56, 'course': 'BCA', 'year': 2025, 'mobile_no': 7996887185, 'College': \"KLE's BK college\", 'PU College': 'CLE PUcollege ckd', 'UNIVERSITY': 'RCU Belgum', 'gender': 'female', 'age': 18}\n",
            "18\n",
            "{'roll_number': 201, 'name': 'arpita', 'CGPA': 8.56, 'course': 'BCA', 'year': 2025, 'mobile_no': 7996887185, 'College': \"KLE's BK college\", 'PU College': 'CLE PUcollege ckd', 'UNIVERSITY': 'RCU Belgum', 'gender': 'female', 'age': 18}\n",
            "{'roll_number': 201, 'name': 'arpita', 'CGPA': 8.56, 'course': 'BCA', 'year': 2025, 'mobile_no': 7996887185, 'College': \"KLE's BK college\", 'PU College': 'CLE PUcollege ckd', 'UNIVERSITY': 'RCU Belgum', 'gender': 'female'}\n",
            "dict_keys(['roll_number', 'name', 'CGPA', 'course', 'year', 'mobile_no', 'College', 'PU College', 'UNIVERSITY', 'gender'])\n",
            "dict_values([201, 'arpita', 8.56, 'BCA', 2025, 7996887185, \"KLE's BK college\", 'CLE PUcollege ckd', 'RCU Belgum', 'female'])\n",
            "dict_items([('roll_number', 201), ('name', 'arpita'), ('CGPA', 8.56), ('course', 'BCA'), ('year', 2025), ('mobile_no', 7996887185), ('College', \"KLE's BK college\"), ('PU College', 'CLE PUcollege ckd'), ('UNIVERSITY', 'RCU Belgum'), ('gender', 'female')])\n",
            "None\n"
          ]
        }
      ]
    },
    {
      "cell_type": "code",
      "source": [
        "dict = {\"emloyee_id\"  :  101,\n",
        "        \"emloyee_name\"        : \"prutvi\",\n",
        "        \"emloyee_address\"     : \"dattavad\",\n",
        "        \"emloyee_department\"  :  \"casher\",\n",
        "        \"emloyee_salory\"      :  20000,\n",
        "        \"compny\"              : \"INFOSES\",\n",
        "        \"pin_code\"            :  591234,\n",
        "        \"Joining year\"        :  2015}\n",
        "print(dict)\n",
        "print(len(dict))\n",
        "dict[\"gender\"]=\"male\"\n",
        "print(dict)\n",
        "del dict[\"gender\"]\n",
        "print(dict)\n",
        "dict[\"gender\"] =\"male\"\n",
        "print(dict)\n",
        "dict[\"habit\"] = \"sleeping\"\n",
        "print(dict)\n",
        "dict[\"e_mail\"] = \"prutvip10@gmail.com\"\n",
        "print(dict)\n",
        "dict[\"age\"] = 22\n",
        "print(dict)\n",
        "print(dict[\"age\"])\n",
        "dict.pop(\"compny\")\n",
        "print(dict)\n",
        "dict.popitem()\n",
        "dict[\"contry\"] = \"INDIA\"\n",
        "print(dict)\n",
        "dict[\"employee_department\"] = \"testing\"\n",
        "print(dict)\n",
        "print(dict.keys())\n",
        "print(dict.values())\n",
        "print(dict.items())\n",
        "print(dict.clear())\n"
      ],
      "metadata": {
        "colab": {
          "base_uri": "https://localhost:8080/"
        },
        "id": "3JJ22xgY4stz",
        "outputId": "aa350410-9ff6-49ad-8611-7acfddf576f9"
      },
      "execution_count": 156,
      "outputs": [
        {
          "output_type": "stream",
          "name": "stdout",
          "text": [
            "{'emloyee_id': 101, 'emloyee_name': 'prutvi', 'emloyee_address': 'dattavad', 'emloyee_department': 'casher', 'emloyee_salory': 20000, 'compny': 'INFOSES', 'pin_code': 591234, 'Joining year': 2015}\n",
            "8\n",
            "{'emloyee_id': 101, 'emloyee_name': 'prutvi', 'emloyee_address': 'dattavad', 'emloyee_department': 'casher', 'emloyee_salory': 20000, 'compny': 'INFOSES', 'pin_code': 591234, 'Joining year': 2015, 'gender': 'male'}\n",
            "{'emloyee_id': 101, 'emloyee_name': 'prutvi', 'emloyee_address': 'dattavad', 'emloyee_department': 'casher', 'emloyee_salory': 20000, 'compny': 'INFOSES', 'pin_code': 591234, 'Joining year': 2015}\n",
            "{'emloyee_id': 101, 'emloyee_name': 'prutvi', 'emloyee_address': 'dattavad', 'emloyee_department': 'casher', 'emloyee_salory': 20000, 'compny': 'INFOSES', 'pin_code': 591234, 'Joining year': 2015, 'gender': 'male'}\n",
            "{'emloyee_id': 101, 'emloyee_name': 'prutvi', 'emloyee_address': 'dattavad', 'emloyee_department': 'casher', 'emloyee_salory': 20000, 'compny': 'INFOSES', 'pin_code': 591234, 'Joining year': 2015, 'gender': 'male', 'habit': 'sleeping'}\n",
            "{'emloyee_id': 101, 'emloyee_name': 'prutvi', 'emloyee_address': 'dattavad', 'emloyee_department': 'casher', 'emloyee_salory': 20000, 'compny': 'INFOSES', 'pin_code': 591234, 'Joining year': 2015, 'gender': 'male', 'habit': 'sleeping', 'e_mail': 'prutvip10@gmail.com'}\n",
            "{'emloyee_id': 101, 'emloyee_name': 'prutvi', 'emloyee_address': 'dattavad', 'emloyee_department': 'casher', 'emloyee_salory': 20000, 'compny': 'INFOSES', 'pin_code': 591234, 'Joining year': 2015, 'gender': 'male', 'habit': 'sleeping', 'e_mail': 'prutvip10@gmail.com', 'age': 22}\n",
            "22\n",
            "{'emloyee_id': 101, 'emloyee_name': 'prutvi', 'emloyee_address': 'dattavad', 'emloyee_department': 'casher', 'emloyee_salory': 20000, 'pin_code': 591234, 'Joining year': 2015, 'gender': 'male', 'habit': 'sleeping', 'e_mail': 'prutvip10@gmail.com', 'age': 22}\n",
            "{'emloyee_id': 101, 'emloyee_name': 'prutvi', 'emloyee_address': 'dattavad', 'emloyee_department': 'casher', 'emloyee_salory': 20000, 'pin_code': 591234, 'Joining year': 2015, 'gender': 'male', 'habit': 'sleeping', 'e_mail': 'prutvip10@gmail.com', 'contry': 'INDIA'}\n",
            "{'emloyee_id': 101, 'emloyee_name': 'prutvi', 'emloyee_address': 'dattavad', 'emloyee_department': 'casher', 'emloyee_salory': 20000, 'pin_code': 591234, 'Joining year': 2015, 'gender': 'male', 'habit': 'sleeping', 'e_mail': 'prutvip10@gmail.com', 'contry': 'INDIA', 'employee_department': 'testing'}\n",
            "dict_keys(['emloyee_id', 'emloyee_name', 'emloyee_address', 'emloyee_department', 'emloyee_salory', 'pin_code', 'Joining year', 'gender', 'habit', 'e_mail', 'contry', 'employee_department'])\n",
            "dict_values([101, 'prutvi', 'dattavad', 'casher', 20000, 591234, 2015, 'male', 'sleeping', 'prutvip10@gmail.com', 'INDIA', 'testing'])\n",
            "dict_items([('emloyee_id', 101), ('emloyee_name', 'prutvi'), ('emloyee_address', 'dattavad'), ('emloyee_department', 'casher'), ('emloyee_salory', 20000), ('pin_code', 591234), ('Joining year', 2015), ('gender', 'male'), ('habit', 'sleeping'), ('e_mail', 'prutvip10@gmail.com'), ('contry', 'INDIA'), ('employee_department', 'testing')])\n",
            "None\n"
          ]
        }
      ]
    },
    {
      "cell_type": "code",
      "source": [
        "Name ={\"Name\" :\"Arpita\",\n",
        "       \"name\" :\"Arpita\",\n",
        "       \"F_name\":\"Arpita\",\n",
        "       \"L_name\": \"Arpita\"}\n",
        "print(Name)"
      ],
      "metadata": {
        "colab": {
          "base_uri": "https://localhost:8080/"
        },
        "id": "hdWI4mL5Lawr",
        "outputId": "2f4cc3d9-3ab9-4385-b2f2-8313100e31d7"
      },
      "execution_count": 157,
      "outputs": [
        {
          "output_type": "stream",
          "name": "stdout",
          "text": [
            "{'Name': 'Arpita', 'name': 'Arpita', 'F_name': 'Arpita', 'L_name': 'Arpita'}\n"
          ]
        }
      ]
    },
    {
      "cell_type": "code",
      "source": [
        "a = 10\n",
        "b = 3\n",
        "c = a/b\n",
        "a, b, c =2.5, 3.5, a+b\n",
        "print(type(c))\n",
        "print(type(a))\n",
        "print(type(b))\n",
        "print(c)\n"
      ],
      "metadata": {
        "colab": {
          "base_uri": "https://localhost:8080/"
        },
        "id": "YcHRSzEBNboU",
        "outputId": "0558e552-5212-427d-d91e-cab39323dc21"
      },
      "execution_count": 158,
      "outputs": [
        {
          "output_type": "stream",
          "name": "stdout",
          "text": [
            "<class 'int'>\n",
            "<class 'float'>\n",
            "<class 'float'>\n",
            "13\n"
          ]
        }
      ]
    },
    {
      "cell_type": "code",
      "source": [
        " a= 2.5\n",
        " b = 3.5\n",
        " c = a+b\n",
        " print(c)\n",
        " print(type(a))\n",
        " print(type(b))\n",
        " print(type(c))\n",
        " print(type(a+b))"
      ],
      "metadata": {
        "colab": {
          "base_uri": "https://localhost:8080/"
        },
        "id": "vFh9hqmIfaDi",
        "outputId": "1aef0e9e-9b99-41f0-c56f-384a0c1973f2"
      },
      "execution_count": 159,
      "outputs": [
        {
          "output_type": "stream",
          "name": "stdout",
          "text": [
            "6.0\n",
            "<class 'float'>\n",
            "<class 'float'>\n",
            "<class 'float'>\n",
            "<class 'float'>\n"
          ]
        }
      ]
    },
    {
      "cell_type": "code",
      "source": [
        "i = 20\n",
        "j =5.5\n",
        "k = i+j\n",
        "print(type(i+j))"
      ],
      "metadata": {
        "colab": {
          "base_uri": "https://localhost:8080/"
        },
        "id": "5GqfKxssgmo6",
        "outputId": "24b468af-8b4b-4808-e894-5980acbf9598"
      },
      "execution_count": 160,
      "outputs": [
        {
          "output_type": "stream",
          "name": "stdout",
          "text": [
            "<class 'float'>\n"
          ]
        }
      ]
    },
    {
      "cell_type": "code",
      "source": [
        "#int-> float\n",
        "a = 49\n",
        "b = 7\n",
        "print(type(a/b))"
      ],
      "metadata": {
        "colab": {
          "base_uri": "https://localhost:8080/"
        },
        "id": "33OxInDOgzWn",
        "outputId": "47a210b6-c722-48a7-984c-a8eb13839323"
      },
      "execution_count": 161,
      "outputs": [
        {
          "output_type": "stream",
          "name": "stdout",
          "text": [
            "<class 'float'>\n"
          ]
        }
      ]
    },
    {
      "cell_type": "code",
      "source": [
        "#int-> float\n",
        "i = True\n",
        "print(type(i))\n",
        "j = 5\n",
        "print(type(i+j))"
      ],
      "metadata": {
        "colab": {
          "base_uri": "https://localhost:8080/"
        },
        "id": "PefpOaUXho5D",
        "outputId": "0bb4f4e6-3135-4077-ddc9-d370b298b925"
      },
      "execution_count": 162,
      "outputs": [
        {
          "output_type": "stream",
          "name": "stdout",
          "text": [
            "<class 'bool'>\n",
            "<class 'int'>\n"
          ]
        }
      ]
    },
    {
      "cell_type": "code",
      "source": [
        "m = 2.9\n",
        "n = False\n",
        "o = m - n\n",
        "print(type(o))\n",
        "\n",
        "p = True\n",
        "q = False\n",
        "r = p+q\n",
        "print(type(r))\n",
        "\n",
        "s = 2.6\n",
        "t = False\n",
        "print(type(s*t))\n",
        "\n",
        "num= 3.12\n",
        "print(type(num))\n",
        "\n",
        "add = int(num)\n",
        "print(type(add))\n",
        "add = num\n",
        "print(type(add))"
      ],
      "metadata": {
        "colab": {
          "base_uri": "https://localhost:8080/"
        },
        "id": "V6JudavgicS6",
        "outputId": "7311d3ae-e47f-41c5-d280-6446e25b77f5"
      },
      "execution_count": 171,
      "outputs": [
        {
          "output_type": "stream",
          "name": "stdout",
          "text": [
            "<class 'float'>\n",
            "<class 'int'>\n",
            "<class 'float'>\n",
            "<class 'float'>\n",
            "<class 'int'>\n",
            "<class 'float'>\n"
          ]
        }
      ]
    },
    {
      "cell_type": "code",
      "source": [
        "#1) int-> float\n",
        "#2) int->str\n",
        "#3) int->bool\n",
        "#4) bool-> int\n",
        "#5) bool -> float\n",
        "#6) bool-> str\n",
        "#7) float-> int\n",
        "#8) float->str\n",
        "#9) float-> bool\n",
        "#10) str -> int\n",
        "#11) str -> bool\n",
        "#12) str ->float"
      ],
      "metadata": {
        "id": "pcOSCmbdwgiQ"
      },
      "execution_count": 172,
      "outputs": []
    },
    {
      "cell_type": "code",
      "source": [
        "demo=1\n",
        "print(type(demo))\n",
        "\n",
        "demo=9.99\n",
        "print(type(demo))\n",
        "\n",
        "demo=False\n",
        "print(type(float(demo)))\n",
        "\n",
        "ex=float(demo)\n",
        "print(ex)\n",
        "#print(type(ex))\n",
        "\n",
        "ex=str(demo)\n",
        "print(type(ex))\n",
        "\n",
        "ex=float(demo)\n",
        "print(type(ex))\n",
        "\n",
        "ex=bool(demo)\n",
        "print(type(ex))"
      ],
      "metadata": {
        "colab": {
          "base_uri": "https://localhost:8080/"
        },
        "id": "gPDp3aceyYti",
        "outputId": "da2b8ab4-aa12-4578-8367-1f9888e46cd1"
      },
      "execution_count": 184,
      "outputs": [
        {
          "output_type": "stream",
          "name": "stdout",
          "text": [
            "<class 'int'>\n",
            "<class 'float'>\n",
            "<class 'float'>\n",
            "0.0\n",
            "<class 'str'>\n",
            "<class 'float'>\n",
            "<class 'bool'>\n"
          ]
        }
      ]
    },
    {
      "cell_type": "code",
      "source": [
        "#str->list\n",
        "#tuple-> list\n",
        "#set-> list\n",
        "#dict-> list"
      ],
      "metadata": {
        "id": "OCKwdo3K1n4F"
      },
      "execution_count": null,
      "outputs": []
    },
    {
      "cell_type": "code",
      "source": [
        "num1=\"arpita\"\n",
        "print(type(num))\n",
        "\n",
        "ex1=list(num1)\n",
        "print(type(ex1))\n",
        "\n",
        "s=(1,2,3,4,5,)\n",
        "print(type(s))\n",
        "\n",
        "num={1,3,4,5}\n",
        "print(type(num))\n",
        "\n",
        "ex={True}\n",
        "print(type(ex))\n",
        "\n",
        "num4={}\n",
        "print(type(num4))\n",
        "\n",
        "ex4=list(num4)\n",
        "print(type(ex4))\n",
        "\n",
        "num2=[(\"a\",1),(\"b\",2),(\"c\",3)]\n",
        "print(type(num2))\n",
        "\n",
        "num3=(1,2,3,4)\n",
        "print(type(num3))\n",
        "\n",
        "ex2=set(num2)\n",
        "print(type(ex2))\n",
        "\n",
        "#tuple->dict\n",
        "num=((\"name\",\"arpita\",\"age\",18))\n",
        "print(type(num3))\n",
        "\n",
        "#list->dict\n",
        "num44={(\"roll_number\",46),(\"section\",\"C\")}\n",
        "print(type(num44))\n",
        "\n"
      ],
      "metadata": {
        "colab": {
          "base_uri": "https://localhost:8080/"
        },
        "id": "HU98XXyO19j6",
        "outputId": "1114801e-c735-4823-ed7f-7f7e39df2e19"
      },
      "execution_count": 201,
      "outputs": [
        {
          "output_type": "stream",
          "name": "stdout",
          "text": [
            "<class 'tuple'>\n",
            "<class 'list'>\n",
            "<class 'tuple'>\n",
            "<class 'set'>\n",
            "<class 'set'>\n",
            "<class 'dict'>\n",
            "<class 'list'>\n",
            "<class 'list'>\n",
            "<class 'tuple'>\n",
            "<class 'set'>\n",
            "<class 'tuple'>\n",
            "<class 'set'>\n"
          ]
        }
      ]
    },
    {
      "cell_type": "code",
      "source": [
        "A =10\n",
        "B =20\n",
        "print(\"before swapping\")\n",
        "print(\"A=\",A,\"B=\",B)\n",
        "print(\"==================\")\n",
        "print(\"after swapping\")\n",
        "temp = A\n",
        "A=B\n",
        "B=temp\n",
        "print(\"A=\",A,\"B=\",B,)\n"
      ],
      "metadata": {
        "colab": {
          "base_uri": "https://localhost:8080/"
        },
        "id": "aCUYnzfP78YV",
        "outputId": "cdeff440-ccfe-4538-a29c-2b5bb962360b"
      },
      "execution_count": 215,
      "outputs": [
        {
          "output_type": "stream",
          "name": "stdout",
          "text": [
            "before swapping\n",
            "A= 10 B= 20\n",
            "==================\n",
            "after swapping\n",
            "A= 20 B= 10\n"
          ]
        }
      ]
    },
    {
      "cell_type": "code",
      "source": [
        "A = 20\n",
        "B = 30\n",
        "print(\"before swapping\")\n",
        "print(\"A=\",A,\"B=\",B,)\n",
        "\n",
        "print(\"after swapping\")\n",
        "A=A+B\n",
        "B=A-B\n",
        "A=A-B\n",
        "print(\"A=\",A,\"B=\",B)\n"
      ],
      "metadata": {
        "colab": {
          "base_uri": "https://localhost:8080/"
        },
        "id": "D_9J2lau-q9O",
        "outputId": "3fb8c4ae-fc3f-4f6b-ed7d-d0633d283c41"
      },
      "execution_count": 219,
      "outputs": [
        {
          "output_type": "stream",
          "name": "stdout",
          "text": [
            "before swapping\n",
            "A= 20 B= 30\n",
            "after swapping\n",
            "A= 30 B= 20\n"
          ]
        }
      ]
    }
  ]
}